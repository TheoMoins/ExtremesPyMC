{
 "cells": [
  {
   "cell_type": "markdown",
   "metadata": {},
   "source": [
    "#  Calcul formel pour inférience bayésienne de processus de Poisson pour extremes\n",
    "\n",
    "\n",
    "Il existe une librairie `stats` de Scipy pour les extrêmes la possibilité d'évaluer la cdf, pdf, etc., et même une fonction \"fit\" par MLE.\n",
    "\n",
    "*Attention cependant* : `genextreme.pdf(x, c, loc, scale)` = $f_{GEV}(x|\\mu, \\sigma, -\\xi)$  "
   ]
  },
  {
   "cell_type": "code",
   "execution_count": 2,
   "metadata": {},
   "outputs": [],
   "source": [
    "import numpy as np\n",
    "from sympy import *\n",
    "from sympy.stats import *\n",
    "import matplotlib.pyplot as plt"
   ]
  },
  {
   "cell_type": "markdown",
   "metadata": {},
   "source": [
    "# Processus de Poisson reparamétrisé"
   ]
  },
  {
   "cell_type": "code",
   "execution_count": 3,
   "metadata": {},
   "outputs": [
    {
     "data": {
      "text/latex": [
       "$\\displaystyle - n \\log{\\left(\\nu \\right)} + n \\log{\\left(\\frac{r}{m} \\right)} + n \\log{\\left(\\gamma + 1 \\right)} - r - \\left(1 + \\frac{1}{\\gamma}\\right) \\sum_{i=1}^{n} \\log{\\left(\\frac{\\gamma \\left(\\gamma + 1\\right) \\left(- u + {x}_{i}\\right)}{\\nu} + 1 \\right)}$"
      ],
      "text/plain": [
       "-n*log(nu) + n*log(r/m) + n*log(gamma + 1) - r - (1 + 1/gamma)*Sum(log(gamma*(gamma + 1)*(-u + x[i])/nu + 1), (i, 1, n))"
      ]
     },
     "execution_count": 3,
     "metadata": {},
     "output_type": "execute_result"
    }
   ],
   "source": [
    "r, a, gam = symbols(\"r alpha gamma\")\n",
    "b = symbols(\"nu\")\n",
    "\n",
    "m, u, n = symbols(\"m u n\")\n",
    "\n",
    "x = IndexedBase(\"x\")\n",
    "i = Symbol(\"i\")\n",
    "\n",
    "\n",
    "#likelihood_PP = -r + n*log(r/m) -n*log(gam*(u-a)) \\\n",
    "#                - (1/gam + 1)*Sum(log((x[i] - a)/(u - a)), (i, 1, n))\n",
    "\n",
    "\n",
    "likelihood_PP = -r + n*log(1+gam) -n*log(b) + n*log(r/m) \\\n",
    "                - (1/gam + 1)*Sum(log(1+(gam*(1+gam)/b)*(x[i] - u)), (i, 1, n))\n",
    "\n",
    "\n",
    "likelihood_PP"
   ]
  },
  {
   "cell_type": "code",
   "execution_count": 4,
   "metadata": {},
   "outputs": [],
   "source": [
    "observed_inf = [diff(likelihood_PP, r, r), diff(likelihood_PP, r, b), diff(likelihood_PP, r, gam), \n",
    "                diff(likelihood_PP, b, b), diff(likelihood_PP, b, gam),\n",
    "                diff(likelihood_PP, gam, gam)]\n",
    "\n",
    "observed_fish = [0, 0, 0, 0, 0, 0]"
   ]
  },
  {
   "cell_type": "markdown",
   "metadata": {},
   "source": [
    "Pour la suite on pose $v = \\frac{u-\\mu}{\\sigma}$ et $z_i = \\frac{x_i-\\mu}{\\sigma}$ "
   ]
  },
  {
   "cell_type": "code",
   "execution_count": 5,
   "metadata": {},
   "outputs": [],
   "source": [
    "# !pip install antlr4-python3-runtime==4.7.1\n",
    "\n",
    "from sympy.parsing.latex import parse_latex\n",
    "\n",
    "# Test : \n",
    "parse_latex(r\"\\frac{1}{x}\")\n",
    "\n",
    "v = symbols(\"v\")\n",
    "\n",
    "z = IndexedBase(\"z\")"
   ]
  },
  {
   "cell_type": "markdown",
   "metadata": {},
   "source": [
    "## Calcul de $\\frac{\\partial^2 l}{\\partial\\mu^2}$ :"
   ]
  },
  {
   "cell_type": "code",
   "execution_count": 6,
   "metadata": {},
   "outputs": [
    {
     "data": {
      "text/latex": [
       "$\\displaystyle - \\frac{n}{r^{2}}$"
      ],
      "text/plain": [
       "-n/r**2"
      ]
     },
     "execution_count": 6,
     "metadata": {},
     "output_type": "execute_result"
    }
   ],
   "source": [
    "observed_inf[0]"
   ]
  },
  {
   "cell_type": "markdown",
   "metadata": {},
   "source": [
    "## Calcul de $\\frac{\\partial^2 l}{\\partial\\mu\\partial\\sigma}$ :"
   ]
  },
  {
   "cell_type": "code",
   "execution_count": 7,
   "metadata": {
    "scrolled": true
   },
   "outputs": [
    {
     "data": {
      "text/latex": [
       "$\\displaystyle 0$"
      ],
      "text/plain": [
       "0"
      ]
     },
     "execution_count": 7,
     "metadata": {},
     "output_type": "execute_result"
    }
   ],
   "source": [
    "observed_inf[1]"
   ]
  },
  {
   "cell_type": "markdown",
   "metadata": {},
   "source": [
    "### Calcul de $\\frac{\\partial^2 l}{\\partial\\mu\\partial\\gamma}$ :"
   ]
  },
  {
   "cell_type": "code",
   "execution_count": 8,
   "metadata": {},
   "outputs": [
    {
     "data": {
      "text/latex": [
       "$\\displaystyle 0$"
      ],
      "text/plain": [
       "0"
      ]
     },
     "execution_count": 8,
     "metadata": {},
     "output_type": "execute_result"
    }
   ],
   "source": [
    "observed_inf[2]"
   ]
  },
  {
   "cell_type": "markdown",
   "metadata": {},
   "source": [
    "### Calcul de $\\frac{\\partial^2 l}{\\partial\\sigma^2}$ :"
   ]
  },
  {
   "cell_type": "code",
   "execution_count": 9,
   "metadata": {},
   "outputs": [
    {
     "data": {
      "text/latex": [
       "$\\displaystyle \\frac{- \\frac{\\gamma \\left(1 + \\frac{1}{\\gamma}\\right) \\left(\\gamma + 1\\right) \\sum_{i=1}^{n} \\frac{\\left(u - {x}_{i}\\right) \\left(- \\frac{\\gamma \\left(\\gamma + 1\\right) \\left(u - {x}_{i}\\right)}{\\nu \\left(\\frac{\\gamma \\left(\\gamma + 1\\right) \\left(u - {x}_{i}\\right)}{\\nu} - 1\\right)} + 2\\right)}{\\frac{\\gamma \\left(\\gamma + 1\\right) \\left(u - {x}_{i}\\right)}{\\nu} - 1}}{\\nu} + n}{\\nu^{2}}$"
      ],
      "text/plain": [
       "(-gamma*(1 + 1/gamma)*(gamma + 1)*Sum((u - x[i])*(-gamma*(gamma + 1)*(u - x[i])/(nu*(gamma*(gamma + 1)*(u - x[i])/nu - 1)) + 2)/(gamma*(gamma + 1)*(u - x[i])/nu - 1), (i, 1, n))/nu + n)/nu**2"
      ]
     },
     "execution_count": 9,
     "metadata": {},
     "output_type": "execute_result"
    }
   ],
   "source": [
    "observed_inf[3]"
   ]
  },
  {
   "cell_type": "markdown",
   "metadata": {},
   "source": [
    "### Calcul de $\\frac{\\partial^2 l}{\\partial\\sigma\\partial\\gamma}$ :"
   ]
  },
  {
   "cell_type": "code",
   "execution_count": 10,
   "metadata": {},
   "outputs": [
    {
     "data": {
      "text/latex": [
       "$\\displaystyle - \\frac{\\left(1 + \\frac{1}{\\gamma}\\right) \\left(2 \\gamma + 1\\right) \\sum_{i=1}^{n} \\frac{\\left(u - {x}_{i}\\right) \\left(\\frac{\\gamma \\left(\\gamma + 1\\right) \\left(u - {x}_{i}\\right)}{\\nu \\left(\\frac{\\gamma \\left(\\gamma + 1\\right) \\left(u - {x}_{i}\\right)}{\\nu} - 1\\right)} - 1\\right)}{\\frac{\\gamma \\left(\\gamma + 1\\right) \\left(u - {x}_{i}\\right)}{\\nu} - 1} + \\frac{\\left(\\gamma + 1\\right) \\sum_{i=1}^{n} \\frac{u - {x}_{i}}{\\frac{\\gamma \\left(\\gamma + 1\\right) \\left(u - {x}_{i}\\right)}{\\nu} - 1}}{\\gamma}}{\\nu^{2}}$"
      ],
      "text/plain": [
       "-((1 + 1/gamma)*(2*gamma + 1)*Sum((u - x[i])*(gamma*(gamma + 1)*(u - x[i])/(nu*(gamma*(gamma + 1)*(u - x[i])/nu - 1)) - 1)/(gamma*(gamma + 1)*(u - x[i])/nu - 1), (i, 1, n)) + (gamma + 1)*Sum((u - x[i])/(gamma*(gamma + 1)*(u - x[i])/nu - 1), (i, 1, n))/gamma)/nu**2"
      ]
     },
     "execution_count": 10,
     "metadata": {},
     "output_type": "execute_result"
    }
   ],
   "source": [
    "observed_inf[4]"
   ]
  },
  {
   "cell_type": "markdown",
   "metadata": {},
   "source": [
    "### Calcul de $\\frac{\\partial^2 l}{\\partial\\gamma^2}$ :"
   ]
  },
  {
   "cell_type": "code",
   "execution_count": 11,
   "metadata": {},
   "outputs": [
    {
     "data": {
      "text/latex": [
       "$\\displaystyle - \\frac{n}{\\left(\\gamma + 1\\right)^{2}} - \\frac{\\left(1 + \\frac{1}{\\gamma}\\right) \\sum_{i=1}^{n} \\frac{\\left(2 - \\frac{\\left(2 \\gamma + 1\\right)^{2} \\left(u - {x}_{i}\\right)}{\\nu \\left(\\frac{\\gamma \\left(\\gamma + 1\\right) \\left(u - {x}_{i}\\right)}{\\nu} - 1\\right)}\\right) \\left(u - {x}_{i}\\right)}{\\frac{\\gamma \\left(\\gamma + 1\\right) \\left(u - {x}_{i}\\right)}{\\nu} - 1}}{\\nu} + \\frac{2 \\left(2 \\gamma + 1\\right) \\sum_{i=1}^{n} \\frac{u - {x}_{i}}{\\frac{\\gamma \\left(\\gamma + 1\\right) \\left(u - {x}_{i}\\right)}{\\nu} - 1}}{\\gamma^{2} \\nu} - \\frac{2 \\sum_{i=1}^{n} \\log{\\left(- \\frac{\\gamma \\left(\\gamma + 1\\right) \\left(u - {x}_{i}\\right)}{\\nu} + 1 \\right)}}{\\gamma^{3}}$"
      ],
      "text/plain": [
       "-n/(gamma + 1)**2 - (1 + 1/gamma)*Sum((2 - (2*gamma + 1)**2*(u - x[i])/(nu*(gamma*(gamma + 1)*(u - x[i])/nu - 1)))*(u - x[i])/(gamma*(gamma + 1)*(u - x[i])/nu - 1), (i, 1, n))/nu + 2*(2*gamma + 1)*Sum((u - x[i])/(gamma*(gamma + 1)*(u - x[i])/nu - 1), (i, 1, n))/(gamma**2*nu) - 2*Sum(log(-gamma*(gamma + 1)*(u - x[i])/nu + 1), (i, 1, n))/gamma**3"
      ]
     },
     "execution_count": 11,
     "metadata": {},
     "output_type": "execute_result"
    }
   ],
   "source": [
    "observed_inf[5]"
   ]
  },
  {
   "cell_type": "code",
   "execution_count": null,
   "metadata": {},
   "outputs": [],
   "source": []
  },
  {
   "cell_type": "code",
   "execution_count": null,
   "metadata": {},
   "outputs": [],
   "source": []
  },
  {
   "cell_type": "code",
   "execution_count": null,
   "metadata": {},
   "outputs": [],
   "source": []
  }
 ],
 "metadata": {
  "kernelspec": {
   "display_name": "Python 3",
   "language": "python",
   "name": "python3"
  },
  "language_info": {
   "codemirror_mode": {
    "name": "ipython",
    "version": 3
   },
   "file_extension": ".py",
   "mimetype": "text/x-python",
   "name": "python",
   "nbconvert_exporter": "python",
   "pygments_lexer": "ipython3",
   "version": "3.6.9"
  }
 },
 "nbformat": 4,
 "nbformat_minor": 4
}
