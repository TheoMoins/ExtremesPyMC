{
 "cells": [
  {
   "cell_type": "markdown",
   "metadata": {},
   "source": [
    "#  Calcul formel pour inférience bayésienne de processus de Poisson pour extremes\n",
    "\n",
    "\n",
    "Il existe une librairie `stats` de Scipy pour les extrêmes la possibilité d'évaluer la cdf, pdf, etc., et même une fonction \"fit\" par MLE.\n",
    "\n",
    "*Attention cependant* : `genextreme.pdf(x, c, loc, scale)` = $f_{GEV}(x|\\mu, \\sigma, -\\xi)$  "
   ]
  },
  {
   "cell_type": "markdown",
   "metadata": {},
   "source": [
    "# Processus de Poisson"
   ]
  },
  {
   "cell_type": "code",
   "execution_count": 9,
   "metadata": {},
   "outputs": [
    {
     "data": {
      "image/png": "[encoded data removed]",
      "text/latex": [
       "$\\displaystyle - m \\left(\\frac{\\gamma \\left(- \\mu + u\\right)}{\\sigma} + 1\\right)^{- \\frac{1}{\\gamma}} - r \\log{\\left(\\sigma \\right)} - \\left(1 + \\frac{1}{\\gamma}\\right) \\sum_{i=1}^{r} \\log{\\left(\\frac{\\gamma \\left(- \\mu + {x}_{i}\\right)}{\\sigma} + 1 \\right)}$"
      ],
      "text/plain": [
       "                                               r                         \n",
       "                    -1                        ____                       \n",
       "                    ───                       ╲                          \n",
       "                     γ                         ╲                         \n",
       "    ⎛γ⋅(-μ + u)    ⎞                 ⎛    1⎞    ╲     ⎛γ⋅(-μ + x[i])    ⎞\n",
       "- m⋅⎜────────── + 1⎟    - r⋅log(σ) - ⎜1 + ─⎟⋅   ╱  log⎜───────────── + 1⎟\n",
       "    ⎝    σ         ⎠                 ⎝    γ⎠   ╱      ⎝      σ          ⎠\n",
       "                                              ╱                          \n",
       "                                              ‾‾‾‾                       \n",
       "                                             i = 1                       "
      ]
     },
     "execution_count": 9,
     "metadata": {},
     "output_type": "execute_result"
    }
   ],
   "source": [
    "mu, sig, gam = symbols(\"mu sigma gamma\")\n",
    "\n",
    "m, u, r = symbols(\"m u r\")\n",
    "\n",
    "x = IndexedBase(\"x\")\n",
    "i = Symbol(\"i\")\n",
    "\n",
    "\n",
    "likelihood_PP = -m*(1 + gam * (u - mu) / sig) ** (-1 / gam) \\\n",
    "                - r*log(sig) \\\n",
    "                - (1/gam + 1)*Sum(log(1 + gam * (x[i] - mu) / sig), (i, 1, r))\n",
    "\n",
    "likelihood_PP"
   ]
  },
  {
   "cell_type": "code",
   "execution_count": 10,
   "metadata": {},
   "outputs": [],
   "source": [
    "observed_inf = [diff(likelihood_PP, mu, mu), diff(likelihood_PP, mu, sig), diff(likelihood_PP, mu, gam), \n",
    "                diff(likelihood_PP, sig, sig), diff(likelihood_PP, sig, gam),\n",
    "                diff(likelihood_PP, gam, gam)]\n",
    "\n",
    "observed_fish = [0, 0, 0, 0, 0, 0]"
   ]
  },
  {
   "cell_type": "markdown",
   "metadata": {},
   "source": [
    "Pour la suite on pose $v = \\frac{u-\\mu}{\\sigma}$ et $z_i = \\frac{x_i-\\mu}{\\sigma}$ "
   ]
  },
  {
   "cell_type": "code",
   "execution_count": 11,
   "metadata": {},
   "outputs": [],
   "source": [
    "# !pip install antlr4-python3-runtime==4.7.1\n",
    "\n",
    "from sympy.parsing.latex import parse_latex\n",
    "\n",
    "# Test : \n",
    "parse_latex(r\"\\frac{1}{x}\")\n",
    "\n",
    "v = symbols(\"v\")\n",
    "\n",
    "z = IndexedBase(\"z\")"
   ]
  },
  {
   "cell_type": "markdown",
   "metadata": {},
   "source": [
    "## Calcul de $\\frac{\\partial^2 l}{\\partial\\mu^2}$ :"
   ]
  },
  {
   "cell_type": "code",
   "execution_count": 12,
   "metadata": {},
   "outputs": [
    {
     "data": {
      "image/png": "[encoded data removed]",
      "text/latex": [
       "$\\displaystyle \\frac{\\gamma^{2} \\left(1 + \\frac{1}{\\gamma}\\right) \\sum_{i=1}^{r} \\frac{1}{\\left(\\frac{\\gamma \\left(\\mu - {x}_{i}\\right)}{\\sigma} - 1\\right)^{2}} - \\frac{\\gamma m \\left(- \\frac{\\gamma \\left(\\mu - u\\right)}{\\sigma} + 1\\right)^{- \\frac{1}{\\gamma}}}{\\left(\\frac{\\gamma \\left(\\mu - u\\right)}{\\sigma} - 1\\right)^{2}} - \\frac{m \\left(- \\frac{\\gamma \\left(\\mu - u\\right)}{\\sigma} + 1\\right)^{- \\frac{1}{\\gamma}}}{\\left(\\frac{\\gamma \\left(\\mu - u\\right)}{\\sigma} - 1\\right)^{2}}}{\\sigma^{2}}$"
      ],
      "text/plain": [
       "             r                                              -1                \n",
       "           _____                                            ───               \n",
       "           ╲                                                 γ                \n",
       "            ╲             1                ⎛  γ⋅(μ - u)    ⎞        ⎛  γ⋅(μ - \n",
       "             ╲   ───────────────────   γ⋅m⋅⎜- ───────── + 1⎟      m⋅⎜- ───────\n",
       " 2 ⎛    1⎞    ╲                    2       ⎝      σ        ⎠        ⎝      σ  \n",
       "γ ⋅⎜1 + ─⎟⋅   ╱  ⎛γ⋅(μ - x[i])    ⎞  - ──────────────────────── - ────────────\n",
       "   ⎝    γ⎠   ╱   ⎜──────────── - 1⎟                       2                   \n",
       "            ╱    ⎝     σ          ⎠        ⎛γ⋅(μ - u)    ⎞           ⎛γ⋅(μ - u\n",
       "           ╱                               ⎜───────── - 1⎟           ⎜────────\n",
       "           ‾‾‾‾‾                           ⎝    σ        ⎠           ⎝    σ   \n",
       "           i = 1                                                              \n",
       "──────────────────────────────────────────────────────────────────────────────\n",
       "                                            2                                 \n",
       "                                           σ                                  \n",
       "\n",
       "       -1 \n",
       "       ───\n",
       "        γ \n",
       "u)    ⎞   \n",
       "── + 1⎟   \n",
       "      ⎠   \n",
       "──────────\n",
       "      2   \n",
       ")    ⎞    \n",
       "─ - 1⎟    \n",
       "     ⎠    \n",
       "          \n",
       "──────────\n",
       "          \n",
       "          "
      ]
     },
     "execution_count": 12,
     "metadata": {},
     "output_type": "execute_result"
    }
   ],
   "source": [
    "observed_inf[0]"
   ]
  },
  {
   "cell_type": "markdown",
   "metadata": {},
   "source": [
    "Version après simplification :\n",
    "\n",
    "$$\n",
    "\\frac{\\partial^2 l}{\\partial \\mu^2} = \n",
    "\\frac{\\gamma(\\gamma+1)}{\\sigma^2} \\sum_{i=1}^r \\left(1+\\gamma z_i\\right)^{-2} -\\frac{m(\\gamma+1)}{\\sigma^2}\\left(1+\\gamma v\\right)^{-1/\\gamma - 2}\n",
    "$$\n",
    "\n",
    "Or on a \n",
    "$$\n",
    "E_{N,Z}\\left[\\sum_{i=1}^N \\{1+\\gamma Z_i\\}_+^{-2}\\right] =\n",
    "\\frac{m}{2\\gamma+1} \\{1+\\gamma v\\}_+^{-1/\\gamma-2}.\n",
    "$$\n",
    "\n",
    "Donc on obtient\n",
    "$$\n",
    "E\\left[-\\frac{\\partial^2 l}{\\partial \\mu^2}\\right] \n",
    "= -\\frac{m\\gamma(\\gamma+1)}{(2\\gamma+1)\\sigma^2} (1+\\gamma v)^{-1/\\gamma-2} \n",
    "  +\\frac{m(\\gamma+1)}{\\sigma^2}\\left(1+\\gamma v\\right)^{-1/\\gamma - 2} \n",
    "=  \\frac{m(\\gamma+1)^2}{\\sigma^2(2\\gamma+1)} (1+\\gamma v)^{-1/\\gamma-2} \n",
    "$$\n",
    "\n",
    "\n"
   ]
  },
  {
   "cell_type": "code",
   "execution_count": 13,
   "metadata": {},
   "outputs": [
    {
     "data": {
      "image/png": "[encoded data removed]",
      "text/latex": [
       "$\\displaystyle \\frac{m \\left(\\gamma + 1\\right)^{2}}{\\sigma^{2} \\left(2 \\gamma + 1\\right)} \\left(\\gamma v + 1\\right)^{-2 - \\frac{1}{\\gamma}}$"
      ],
      "text/plain": [
       "                           1\n",
       "          2           -2 - ─\n",
       " m⋅(γ + 1)                 γ\n",
       "────────────⋅(γ⋅v + 1)      \n",
       " 2                          \n",
       "σ ⋅(2⋅γ + 1)                "
      ]
     },
     "execution_count": 13,
     "metadata": {},
     "output_type": "execute_result"
    }
   ],
   "source": [
    "observed_fish[0] = parse_latex(r\"\\frac{(\\gamma+1)^2 m}{\\sigma^2(2\\gamma+1)} (1+\\gamma v)^{-1/\\gamma-2}\")\n",
    "\n",
    "observed_fish[0]"
   ]
  },
  {
   "cell_type": "markdown",
   "metadata": {},
   "source": [
    "## Calcul de $\\frac{\\partial^2 l}{\\partial\\mu\\partial\\sigma}$ :"
   ]
  },
  {
   "cell_type": "code",
   "execution_count": 14,
   "metadata": {
    "scrolled": true
   },
   "outputs": [
    {
     "data": {
      "image/png": "[encoded data removed]",
      "text/latex": [
       "$\\displaystyle \\frac{\\frac{\\gamma m \\left(\\mu - u\\right) \\left(- \\frac{\\gamma \\left(\\mu - u\\right)}{\\sigma} + 1\\right)^{- \\frac{1}{\\gamma}}}{\\sigma \\left(\\frac{\\gamma \\left(\\mu - u\\right)}{\\sigma} - 1\\right)^{2}} - \\gamma \\left(1 + \\frac{1}{\\gamma}\\right) \\sum_{i=1}^{r} \\frac{\\frac{\\gamma \\left(\\mu - {x}_{i}\\right)}{\\sigma \\left(\\frac{\\gamma \\left(\\mu - {x}_{i}\\right)}{\\sigma} - 1\\right)} - 1}{\\frac{\\gamma \\left(\\mu - {x}_{i}\\right)}{\\sigma} - 1} - \\frac{m \\left(- \\frac{\\gamma \\left(\\mu - u\\right)}{\\sigma} + 1\\right)^{- \\frac{1}{\\gamma}}}{\\frac{\\gamma \\left(\\mu - u\\right)}{\\sigma} - 1} + \\frac{m \\left(\\mu - u\\right) \\left(- \\frac{\\gamma \\left(\\mu - u\\right)}{\\sigma} + 1\\right)^{- \\frac{1}{\\gamma}}}{\\sigma \\left(\\frac{\\gamma \\left(\\mu - u\\right)}{\\sigma} - 1\\right)^{2}}}{\\sigma^{2}}$"
      ],
      "text/plain": [
       "                                                r                             \n",
       "                                             _______                          \n",
       "                             -1              ╲                                \n",
       "                             ───              ╲                               \n",
       "                              γ                ╲         γ⋅(μ - x[i])         \n",
       "            ⎛  γ⋅(μ - u)    ⎞                   ╲    ──────────────────── - 1 \n",
       "γ⋅m⋅(μ - u)⋅⎜- ───────── + 1⎟                    ╲     ⎛γ⋅(μ - x[i])    ⎞     \n",
       "            ⎝      σ        ⎠        ⎛    1⎞      ╲  σ⋅⎜──────────── - 1⎟     \n",
       "──────────────────────────────── - γ⋅⎜1 + ─⎟⋅     ╱    ⎝     σ          ⎠     \n",
       "                        2            ⎝    γ⎠     ╱   ──────────────────────── \n",
       "         ⎛γ⋅(μ - u)    ⎞                        ╱        γ⋅(μ - x[i])         \n",
       "       σ⋅⎜───────── - 1⎟                       ╱         ──────────── - 1     \n",
       "         ⎝    σ        ⎠                      ╱               σ               \n",
       "                                             ╱                                \n",
       "                                             ‾‾‾‾‾‾‾                          \n",
       "                                              i = 1                           \n",
       "──────────────────────────────────────────────────────────────────────────────\n",
       "                                                                    2         \n",
       "                                                                   σ          \n",
       "\n",
       "                                                         \n",
       "                                                         \n",
       "                     -1                               -1 \n",
       "                     ───                              ───\n",
       "                      γ                                γ \n",
       "    ⎛  γ⋅(μ - u)    ⎞                ⎛  γ⋅(μ - u)    ⎞   \n",
       "  m⋅⎜- ───────── + 1⎟      m⋅(μ - u)⋅⎜- ───────── + 1⎟   \n",
       "    ⎝      σ        ⎠                ⎝      σ        ⎠   \n",
       "- ────────────────────── + ──────────────────────────────\n",
       "      γ⋅(μ - u)                                   2      \n",
       "      ───────── - 1                ⎛γ⋅(μ - u)    ⎞       \n",
       "          σ                      σ⋅⎜───────── - 1⎟       \n",
       "                                   ⎝    σ        ⎠       \n",
       "                                                         \n",
       "                                                         \n",
       "                                                         \n",
       "─────────────────────────────────────────────────────────\n",
       "                                                         \n",
       "                                                         "
      ]
     },
     "execution_count": 14,
     "metadata": {},
     "output_type": "execute_result"
    }
   ],
   "source": [
    "observed_inf[1]"
   ]
  },
  {
   "cell_type": "markdown",
   "metadata": {},
   "source": [
    "Version après simplification :\n",
    "\n",
    "$$\n",
    "\\frac{\\partial^2 l}{\\partial \\mu \\partial \\sigma} = \n",
    "- \\frac{m(\\gamma+1)}{\\sigma^2} v \\left(1+\\gamma v\\right)^{-1/\\gamma -2} \n",
    "- \\frac{\\gamma+1}{\\sigma^2} \\sum_{i=1}^r \\left(1+\\gamma z_i\\right)^{-1} \n",
    "+ \\frac{\\gamma(\\gamma+1)}{\\sigma^2} \\sum_{i=1}^r z_i \\left(1+\\gamma z_i\\right)^{-2} \n",
    "+ \\frac{m}{\\sigma^2} \\left(1+\\gamma v\\right)^{-1/\\gamma - 1} \n",
    "$$\n",
    "\n",
    "Or \n",
    "\n",
    "$$\n",
    "    E_{N,Z}\\left[\\sum_{i=1}^N \\{1+\\gamma Z_i\\}_+^{-1}\\right] \n",
    "    = \\frac{m}{\\gamma+1} \\{1+\\gamma v\\}_+^{-1/\\gamma-1} \\quad \\text{ et } \\quad\n",
    "    E_{N,Z}\\left[\\sum_{i=1}^N Z_i\\{1+\\gamma Z_i\\}_+^{-2}\\right] =\n",
    "    \\frac{m(1+v+2\\gamma v)}{(\\gamma+1)(2\\gamma+1)} \\{1+\\gamma v\\}_+^{-1/\\gamma-2}\n",
    "$$\n",
    "\n",
    "Donc \n",
    "\n",
    "$$\n",
    "E\\left[-\\frac{\\partial^2 l}{\\partial \\mu \\partial \\sigma}\\right] = \n",
    "  \\frac{m(\\gamma+1)}{\\sigma^2} v \\left(1+\\gamma v\\right)^{-1/\\gamma -2} \n",
    "+ \\frac{m}{\\sigma^2} (1+\\gamma v)^{-1/\\gamma-1}\n",
    "- \\frac{\\gamma}{\\sigma^2} \\frac{m(1+v+2\\gamma v)}{2\\gamma+1} (1+\\gamma v)^{-1/\\gamma-2}\n",
    "- \\frac{m}{\\sigma^2} \\left(1+\\gamma v\\right)^{-1/\\gamma - 1} \n",
    "$$\n",
    "\n",
    "Après simplification :\n",
    "\n",
    "$$\n",
    "E\\left[-\\frac{\\partial^2 l}{\\partial \\mu \\partial \\sigma}\\right] = \n",
    "  \\frac{m}{\\sigma^2} \\left(v-\\frac{\\gamma}{1+2\\gamma}\\right) \\left(1+\\gamma v\\right)^{-1/\\gamma -2} \n",
    "$$\n"
   ]
  },
  {
   "cell_type": "code",
   "execution_count": 15,
   "metadata": {},
   "outputs": [
    {
     "data": {
      "image/png": "[encoded data removed]",
      "text/latex": [
       "$\\displaystyle \\frac{m}{\\sigma^{2}} \\left(\\gamma v + 1\\right)^{-2 - \\frac{1}{\\gamma}} \\left(- \\frac{\\gamma}{2 \\gamma + 1} + v\\right)$"
      ],
      "text/plain": [
       "                 1                \n",
       "            -2 - ─                \n",
       "m                γ ⎛     γ       ⎞\n",
       "──⋅(γ⋅v + 1)      ⋅⎜- ─────── + v⎟\n",
       " 2                 ⎝  2⋅γ + 1    ⎠\n",
       "σ                                 "
      ]
     },
     "execution_count": 15,
     "metadata": {},
     "output_type": "execute_result"
    }
   ],
   "source": [
    "observed_fish[1] = parse_latex(r\"\\frac{m}{\\sigma^2} (v-\\frac{\\gamma}{1+2\\gamma}) (1+\\gamma v)^{-1/\\gamma -2}\")\n",
    "\n",
    "observed_fish[1]"
   ]
  },
  {
   "cell_type": "markdown",
   "metadata": {},
   "source": [
    "### Calcul de $\\frac{\\partial^2 l}{\\partial\\mu\\partial\\gamma}$ :"
   ]
  },
  {
   "cell_type": "code",
   "execution_count": 16,
   "metadata": {},
   "outputs": [
    {
     "data": {
      "image/png": "[encoded data removed]",
      "text/latex": [
       "$\\displaystyle \\frac{- \\frac{m \\left(\\mu - u\\right) \\left(- \\frac{\\gamma \\left(\\mu - u\\right)}{\\sigma} + 1\\right)^{- \\frac{1}{\\gamma}}}{\\sigma \\left(\\frac{\\gamma \\left(\\mu - u\\right)}{\\sigma} - 1\\right)^{2}} - \\left(1 + \\frac{1}{\\gamma}\\right) \\sum_{i=1}^{r} \\frac{- \\frac{\\gamma \\left(\\mu - {x}_{i}\\right)}{\\sigma \\left(\\frac{\\gamma \\left(\\mu - {x}_{i}\\right)}{\\sigma} - 1\\right)} + 1}{\\frac{\\gamma \\left(\\mu - {x}_{i}\\right)}{\\sigma} - 1} + \\frac{m \\left(- \\frac{\\gamma \\left(\\mu - u\\right)}{\\sigma} + 1\\right)^{- \\frac{1}{\\gamma}} \\left(\\frac{\\mu - u}{\\sigma \\left(- \\frac{\\gamma \\left(\\mu - u\\right)}{\\sigma} + 1\\right)} + \\frac{\\log{\\left(- \\frac{\\gamma \\left(\\mu - u\\right)}{\\sigma} + 1 \\right)}}{\\gamma}\\right)}{\\gamma \\left(\\frac{\\gamma \\left(\\mu - u\\right)}{\\sigma} - 1\\right)} + \\frac{\\sum_{i=1}^{r} \\frac{1}{\\frac{\\gamma \\left(\\mu - {x}_{i}\\right)}{\\sigma} - 1}}{\\gamma}}{\\sigma}$"
      ],
      "text/plain": [
       "                                                                              \n",
       "                                                                              \n",
       "                                                                              \n",
       "                                                                              \n",
       "                                              r                               \n",
       "                                           _______                            \n",
       "                             -1            ╲                                  \n",
       "                             ───            ╲                                 \n",
       "                              γ              ╲           γ⋅(μ - x[i])         \n",
       "            ⎛  γ⋅(μ - u)    ⎞                 ╲    - ──────────────────── + 1 \n",
       "  m⋅(μ - u)⋅⎜- ───────── + 1⎟                  ╲       ⎛γ⋅(μ - x[i])    ⎞     \n",
       "            ⎝      σ        ⎠      ⎛    1⎞      ╲    σ⋅⎜──────────── - 1⎟     \n",
       "- ────────────────────────────── - ⎜1 + ─⎟⋅     ╱      ⎝     σ          ⎠     \n",
       "                         2         ⎝    γ⎠     ╱   ────────────────────────── \n",
       "          ⎛γ⋅(μ - u)    ⎞                     ╱         γ⋅(μ - x[i])          \n",
       "        σ⋅⎜───────── - 1⎟                    ╱          ──────────── - 1      \n",
       "          ⎝    σ        ⎠                   ╱                σ                \n",
       "                                           ╱                                  \n",
       "                                           ‾‾‾‾‾‾‾                            \n",
       "                                            i = 1                             \n",
       "──────────────────────────────────────────────────────────────────────────────\n",
       "                                                                              \n",
       "\n",
       "                                                                          r   \n",
       "                                                                        _____ \n",
       "                                                                        ╲     \n",
       "                                                                         ╲    \n",
       "                     -1                                                   ╲   \n",
       "                     ─── ⎛                         ⎛  γ⋅(μ - u)    ⎞⎞      ╲  \n",
       "                      γ  ⎜                      log⎜- ───────── + 1⎟⎟      ╱  \n",
       "    ⎛  γ⋅(μ - u)    ⎞    ⎜       μ - u             ⎝      σ        ⎠⎟     ╱   \n",
       "  m⋅⎜- ───────── + 1⎟   ⋅⎜─────────────────── + ────────────────────⎟    ╱    \n",
       "    ⎝      σ        ⎠    ⎜  ⎛  γ⋅(μ - u)    ⎞            γ          ⎟   ╱     \n",
       "                         ⎜σ⋅⎜- ───────── + 1⎟                       ⎟   ‾‾‾‾‾ \n",
       "                         ⎝  ⎝      σ        ⎠                       ⎠   i = 1 \n",
       "+ ─────────────────────────────────────────────────────────────────── + ──────\n",
       "                             ⎛γ⋅(μ - u)    ⎞                                  \n",
       "                           γ⋅⎜───────── - 1⎟                                  \n",
       "                             ⎝    σ        ⎠                                  \n",
       "                                                                              \n",
       "                                                                              \n",
       "                                                                              \n",
       "                                                                              \n",
       "──────────────────────────────────────────────────────────────────────────────\n",
       "       σ                                                                      \n",
       "\n",
       "                \n",
       "                \n",
       "                \n",
       "                \n",
       "       1        \n",
       "────────────────\n",
       "γ⋅(μ - x[i])    \n",
       "──────────── - 1\n",
       "     σ          \n",
       "                \n",
       "                \n",
       "                \n",
       "────────────────\n",
       "    γ           \n",
       "                \n",
       "                \n",
       "                \n",
       "                \n",
       "                \n",
       "                \n",
       "────────────────\n",
       "                "
      ]
     },
     "execution_count": 16,
     "metadata": {},
     "output_type": "execute_result"
    }
   ],
   "source": [
    "observed_inf[2]"
   ]
  },
  {
   "cell_type": "markdown",
   "metadata": {},
   "source": [
    "Version après simplification :\n",
    "\n",
    "$$\n",
    "\\frac{\\partial^2 l}{\\partial \\mu \\partial \\gamma} = \n",
    "  \\frac{m(\\gamma+1)}{\\sigma\\gamma} v (1+\\gamma v)^{-1/\\gamma - 2} \n",
    "+ \\frac{1}{\\sigma} \\sum_{i=1}^r (1+\\gamma z_i)^{-1} \n",
    "- \\frac{\\gamma+1}{\\sigma} \\sum_{i=1}^r z_i (1+\\gamma z_i)^{-2}\n",
    "- \\frac{m}{\\sigma\\gamma^2} (1+\\gamma v)^{-1/\\gamma - 1} \\log (1+\\gamma v) \n",
    "$$\n",
    "\n",
    "Donc \n",
    "\n",
    "$$\n",
    "E\\left[-\\frac{\\partial^2 l}{\\partial \\mu \\partial \\gamma}\\right] = \n",
    "- \\frac{m}{\\sigma\\gamma} \\left(v- \\frac{\\gamma}{1+2\\gamma} \\right) (1+\\gamma v)^{-1/\\gamma - 2} \n",
    "+ \\frac{m}{\\sigma} \\left(\\frac{\\log (1+\\gamma v)}{\\gamma^2} - \\frac{1}{\\gamma +1} \\right) (1+\\gamma v)^{-1/\\gamma - 1}\n",
    "$$"
   ]
  },
  {
   "cell_type": "code",
   "execution_count": 17,
   "metadata": {},
   "outputs": [
    {
     "data": {
      "image/png": "[encoded data removed]",
      "text/latex": [
       "$\\displaystyle \\frac{m}{\\sigma} \\left(\\gamma v + 1\\right)^{-1 - \\frac{1}{\\gamma}} \\left(- \\frac{1}{\\gamma + 1} + \\frac{\\log{\\left(\\gamma v + 1 \\right)}}{\\gamma^{2}}\\right) + \\frac{m}{\\gamma \\sigma} \\left(\\gamma v + 1\\right)^{-2 - \\frac{1}{\\gamma}} \\left(\\frac{\\gamma}{2 \\gamma + 1} - v\\right)$"
      ],
      "text/plain": [
       "                1                                                  1          \n",
       "           -1 - ─                                             -2 - ─          \n",
       "m               γ ⎛    1     log(γ⋅v + 1, 10)⎞    m                γ ⎛   γ    \n",
       "─⋅(γ⋅v + 1)      ⋅⎜- ───── + ────────────────⎟ + ───⋅(γ⋅v + 1)      ⋅⎜─────── \n",
       "σ                 ⎜  γ + 1           2       ⎟   γ⋅σ                 ⎝2⋅γ + 1 \n",
       "                  ⎝                 γ        ⎠                                \n",
       "\n",
       "    \n",
       "    \n",
       "   ⎞\n",
       "- v⎟\n",
       "   ⎠\n",
       "    "
      ]
     },
     "execution_count": 17,
     "metadata": {},
     "output_type": "execute_result"
    }
   ],
   "source": [
    "observed_fish[2] = parse_latex(r\"\\frac{m}{\\sigma\\gamma}(\\frac{\\gamma}{1+2\\gamma} - v) (1+\\gamma v)^{-1/\\gamma - 2} + \\frac{m}{\\sigma}(\\frac{\\log (1+\\gamma v)}{\\gamma^2} - \\frac{1}{\\gamma +1}) (1+\\gamma v)^{-1/\\gamma - 1}\")\n",
    "\n",
    "observed_fish[2]"
   ]
  },
  {
   "cell_type": "markdown",
   "metadata": {},
   "source": [
    "### Calcul de $\\frac{\\partial^2 l}{\\partial\\sigma^2}$ :"
   ]
  },
  {
   "cell_type": "code",
   "execution_count": 18,
   "metadata": {},
   "outputs": [
    {
     "data": {
      "image/png": "[encoded data removed]",
      "text/latex": [
       "$\\displaystyle \\frac{- \\frac{\\gamma m \\left(\\mu - u\\right)^{2} \\left(- \\frac{\\gamma \\left(\\mu - u\\right)}{\\sigma} + 1\\right)^{- \\frac{1}{\\gamma}}}{\\sigma^{2} \\left(\\frac{\\gamma \\left(\\mu - u\\right)}{\\sigma} - 1\\right)^{2}} + \\frac{\\gamma \\left(1 + \\frac{1}{\\gamma}\\right) \\sum_{i=1}^{r} \\frac{\\left(\\mu - {x}_{i}\\right) \\left(\\frac{\\gamma \\left(\\mu - {x}_{i}\\right)}{\\sigma \\left(- \\frac{\\gamma \\left(\\mu - {x}_{i}\\right)}{\\sigma} + 1\\right)} + 2\\right)}{- \\frac{\\gamma \\left(\\mu - {x}_{i}\\right)}{\\sigma} + 1}}{\\sigma} + \\frac{2 m \\left(\\mu - u\\right) \\left(- \\frac{\\gamma \\left(\\mu - u\\right)}{\\sigma} + 1\\right)^{- \\frac{1}{\\gamma}}}{\\sigma \\left(\\frac{\\gamma \\left(\\mu - u\\right)}{\\sigma} - 1\\right)} - \\frac{m \\left(\\mu - u\\right)^{2} \\left(- \\frac{\\gamma \\left(\\mu - u\\right)}{\\sigma} + 1\\right)^{- \\frac{1}{\\gamma}}}{\\sigma^{2} \\left(\\frac{\\gamma \\left(\\mu - u\\right)}{\\sigma} - 1\\right)^{2}} + r}{\\sigma^{2}}$"
      ],
      "text/plain": [
       "                                                   r                          \n",
       "                                                _______                       \n",
       "                                                ╲                             \n",
       "                                                 ╲                            \n",
       "                                                  ╲                ⎛     γ⋅(μ \n",
       "                                                   ╲    (μ - x[i])⋅⎜──────────\n",
       "                                                    ╲              ⎜  ⎛  γ⋅(μ \n",
       "                                        ⎛    1⎞      ╲             ⎜σ⋅⎜- ─────\n",
       "                                      γ⋅⎜1 + ─⎟⋅     ╱             ⎝  ⎝       \n",
       "                                        ⎝    γ⎠     ╱   ──────────────────────\n",
       "                                -1                 ╱                 γ⋅(μ - x[\n",
       "                                ───               ╱                - ─────────\n",
       "                                 γ               ╱                        σ   \n",
       "             2 ⎛  γ⋅(μ - u)    ⎞                ╱                             \n",
       "  γ⋅m⋅(μ - u) ⋅⎜- ───────── + 1⎟                ‾‾‾‾‾‾‾                       \n",
       "               ⎝      σ        ⎠                 i = 1                        \n",
       "- ───────────────────────────────── + ────────────────────────────────────────\n",
       "                           2                                      σ           \n",
       "          2 ⎛γ⋅(μ - u)    ⎞                                                   \n",
       "         σ ⋅⎜───────── - 1⎟                                                   \n",
       "            ⎝    σ        ⎠                                                   \n",
       "──────────────────────────────────────────────────────────────────────────────\n",
       "                                                                              \n",
       "                                                                              \n",
       "\n",
       "                                                                              \n",
       "                                                                              \n",
       "                                                                              \n",
       "                                                                              \n",
       "- x[i])         ⎞                                                             \n",
       "──────────── + 2⎟                                                             \n",
       "- x[i])    ⎞    ⎟                                                             \n",
       "─────── + 1⎟    ⎟                                                             \n",
       "σ          ⎠    ⎠                                                             \n",
       "─────────────────                                                             \n",
       "i])                                              -1                           \n",
       "─── + 1                                          ───                          \n",
       "                                                  γ                           \n",
       "                                ⎛  γ⋅(μ - u)    ⎞               2 ⎛  γ⋅(μ - u)\n",
       "                    2⋅m⋅(μ - u)⋅⎜- ───────── + 1⎟      m⋅(μ - u) ⋅⎜- ─────────\n",
       "                                ⎝      σ        ⎠                 ⎝      σ    \n",
       "───────────────── + ──────────────────────────────── - ───────────────────────\n",
       "                             ⎛γ⋅(μ - u)    ⎞                                  \n",
       "                           σ⋅⎜───────── - 1⎟                  2 ⎛γ⋅(μ - u)    \n",
       "                             ⎝    σ        ⎠                 σ ⋅⎜───────── - 1\n",
       "                                                                ⎝    σ        \n",
       "──────────────────────────────────────────────────────────────────────────────\n",
       "      2                                                                       \n",
       "     σ                                                                        \n",
       "\n",
       "            \n",
       "            \n",
       "            \n",
       "            \n",
       "            \n",
       "            \n",
       "            \n",
       "            \n",
       "            \n",
       "            \n",
       "     -1     \n",
       "     ───    \n",
       "      γ     \n",
       "    ⎞       \n",
       " + 1⎟       \n",
       "    ⎠       \n",
       "──────── + r\n",
       " 2          \n",
       "⎞           \n",
       "⎟           \n",
       "⎠           \n",
       "────────────\n",
       "            \n",
       "            "
      ]
     },
     "execution_count": 18,
     "metadata": {},
     "output_type": "execute_result"
    }
   ],
   "source": [
    "observed_inf[3]"
   ]
  },
  {
   "cell_type": "markdown",
   "metadata": {},
   "source": [
    "Version après simplification :\n",
    "\n",
    "$$\n",
    "\\frac{\\partial^2 l}{\\partial \\sigma^2} = \n",
    "- \\frac{m(\\gamma+1)}{\\sigma^2} v^2 (1+\\gamma v)^{-1/\\gamma -2} \n",
    "- \\frac{2(\\gamma+1)}{\\sigma^2} \\sum_{i=1}^r z_i(1+\\gamma z_i)^{-1}\n",
    "+ \\frac{\\gamma(\\gamma+1)}{\\sigma^2} \\sum_{i=1}^r z_i^2 (1+\\gamma z_i)^{-2}\n",
    "+\\frac{2m}{\\sigma^2} v (1+\\gamma v)^{-1/\\gamma -1}\n",
    "+ \\frac{r}{\\sigma^2}\n",
    "$$\n",
    "\n",
    "Or \n",
    "\n",
    "$$\n",
    "    E_{N,Z}\\left[\\sum_{i=1}^N Z_i\\{1+\\gamma Z_i\\}_+^{-1}\\right] \n",
    "    = \\frac{m(1+v+\\gamma v)}{\\gamma+1} \\{1+\\gamma v\\}_+^{-1/\\gamma-1} \n",
    "$$\n",
    "$$\n",
    "    E_{N,Z}\\left[\\sum_{i=1}^N Z_i^2\\{1+\\gamma Z_i\\}_+^{-2}\\right] =\n",
    "    \\frac{m\\left((\\gamma+1)(2\\gamma+1)v^2+2(2\\gamma+1)v+2\\right)}{(\\gamma+1)(2\\gamma+1)} \\{1+\\gamma v\\}_+^{-1/\\gamma-2}\n",
    "$$\n",
    "$$\n",
    "E[N] = m(1+\\gamma v)^{-1/\\gamma}\n",
    "$$\n",
    "\n",
    "Donc\n",
    "\n",
    "$$\n",
    "E\\left[-\\frac{\\partial^2 l}{\\partial \\sigma^2}\\right] = \n",
    "  \\frac{2m}{\\sigma^2} (1+\\gamma v)^{-1/\\gamma} \n",
    "- \\frac{m}{\\sigma^2} (1+\\gamma v)^{-1/\\gamma}\n",
    "+ \\frac{m}{\\sigma^2} \\left(v^2 + \\frac{1}{2\\gamma+1}\\right) (1+\\gamma v)^{-1/\\gamma -2}\n",
    "- \\frac{m}{\\sigma^2} (1+\\gamma v)^{-1/\\gamma}\n",
    "$$\n",
    "\n",
    "$$\n",
    "E\\left[-\\frac{\\partial^2 l}{\\partial \\sigma^2}\\right] = \n",
    " \\frac{m}{\\sigma^2} \\left(v^2+\\frac{1}{2\\gamma+1}\\right) (1+\\gamma v)^{-1/\\gamma -2}\n",
    "$$\n"
   ]
  },
  {
   "cell_type": "code",
   "execution_count": 19,
   "metadata": {},
   "outputs": [
    {
     "data": {
      "image/png": "[encoded data removed]",
      "text/latex": [
       "$\\displaystyle \\frac{m}{\\sigma^{2}} \\left(v^{2} + \\frac{1}{2 \\gamma + 1}\\right) \\left(\\gamma v + 1\\right)^{-2 - \\frac{1}{\\gamma}}$"
      ],
      "text/plain": [
       "                                1\n",
       "                           -2 - ─\n",
       "m  ⎛ 2      1   ⎞               γ\n",
       "──⋅⎜v  + ───────⎟⋅(γ⋅v + 1)      \n",
       " 2 ⎝     2⋅γ + 1⎠                \n",
       "σ                                "
      ]
     },
     "execution_count": 19,
     "metadata": {},
     "output_type": "execute_result"
    }
   ],
   "source": [
    "observed_fish[3] = parse_latex(r\"\\frac{m}{\\sigma^2} (v^2+\\frac{1}{2\\gamma+1}) (1+\\gamma v)^{-1/\\gamma -2}\")\n",
    "\n",
    "observed_fish[3]"
   ]
  },
  {
   "cell_type": "markdown",
   "metadata": {},
   "source": [
    "### Calcul de $\\frac{\\partial^2 l}{\\partial\\sigma\\partial\\gamma}$ :"
   ]
  },
  {
   "cell_type": "code",
   "execution_count": 20,
   "metadata": {},
   "outputs": [
    {
     "data": {
      "image/png": "[encoded data removed]",
      "text/latex": [
       "$\\displaystyle \\frac{\\frac{m \\left(\\mu - u\\right)^{2} \\left(- \\frac{\\gamma \\left(\\mu - u\\right)}{\\sigma} + 1\\right)^{- \\frac{1}{\\gamma}}}{\\sigma \\left(\\frac{\\gamma \\left(\\mu - u\\right)}{\\sigma} - 1\\right)^{2}} - \\left(1 + \\frac{1}{\\gamma}\\right) \\sum_{i=1}^{r} \\frac{\\left(\\mu - {x}_{i}\\right) \\left(\\frac{\\gamma \\left(\\mu - {x}_{i}\\right)}{\\sigma \\left(\\frac{\\gamma \\left(\\mu - {x}_{i}\\right)}{\\sigma} - 1\\right)} - 1\\right)}{\\frac{\\gamma \\left(\\mu - {x}_{i}\\right)}{\\sigma} - 1} - \\frac{m \\left(\\mu - u\\right) \\left(- \\frac{\\gamma \\left(\\mu - u\\right)}{\\sigma} + 1\\right)^{- \\frac{1}{\\gamma}} \\left(\\frac{\\mu - u}{\\sigma \\left(- \\frac{\\gamma \\left(\\mu - u\\right)}{\\sigma} + 1\\right)} + \\frac{\\log{\\left(- \\frac{\\gamma \\left(\\mu - u\\right)}{\\sigma} + 1 \\right)}}{\\gamma}\\right)}{\\gamma \\left(\\frac{\\gamma \\left(\\mu - u\\right)}{\\sigma} - 1\\right)} - \\frac{\\sum_{i=1}^{r} \\frac{\\mu - {x}_{i}}{\\frac{\\gamma \\left(\\mu - {x}_{i}\\right)}{\\sigma} - 1}}{\\gamma}}{\\sigma^{2}}$"
      ],
      "text/plain": [
       "                                                                              \n",
       "                                                                              \n",
       "                                                                              \n",
       "                                                                              \n",
       "                                             r                                \n",
       "                                          _______                             \n",
       "                            -1            ╲                                   \n",
       "                            ───            ╲                                  \n",
       "                             γ              ╲                ⎛    γ⋅(μ - x[i])\n",
       "         2 ⎛  γ⋅(μ - u)    ⎞                 ╲    (μ - x[i])⋅⎜────────────────\n",
       "m⋅(μ - u) ⋅⎜- ───────── + 1⎟                  ╲              ⎜  ⎛γ⋅(μ - x[i]) \n",
       "           ⎝      σ        ⎠      ⎛    1⎞      ╲             ⎜σ⋅⎜──────────── \n",
       "─────────────────────────────── - ⎜1 + ─⎟⋅     ╱             ⎝  ⎝     σ       \n",
       "                        2         ⎝    γ⎠     ╱   ────────────────────────────\n",
       "         ⎛γ⋅(μ - u)    ⎞                     ╱               γ⋅(μ - x[i])     \n",
       "       σ⋅⎜───────── - 1⎟                    ╱                ──────────── - 1 \n",
       "         ⎝    σ        ⎠                   ╱                      σ           \n",
       "                                          ╱                                   \n",
       "                                          ‾‾‾‾‾‾‾                             \n",
       "                                           i = 1                              \n",
       "──────────────────────────────────────────────────────────────────────────────\n",
       "                                                                              \n",
       "                                                                              \n",
       "\n",
       "                                                                              \n",
       "                                                                              \n",
       "                                                                              \n",
       "                                                                              \n",
       "                                       -1                                     \n",
       "                                       ─── ⎛                         ⎛  γ⋅(μ -\n",
       "                                        γ  ⎜                      log⎜- ──────\n",
       "                      ⎛  γ⋅(μ - u)    ⎞    ⎜       μ - u             ⎝      σ \n",
       "        ⎞   m⋅(μ - u)⋅⎜- ───────── + 1⎟   ⋅⎜─────────────────── + ────────────\n",
       "──── - 1⎟             ⎝      σ        ⎠    ⎜  ⎛  γ⋅(μ - u)    ⎞            γ  \n",
       "   ⎞    ⎟                                  ⎜σ⋅⎜- ───────── + 1⎟               \n",
       "- 1⎟    ⎟                                  ⎝  ⎝      σ        ⎠               \n",
       "   ⎠    ⎠ - ──────────────────────────────────────────────────────────────────\n",
       "─────────                                  ⎛γ⋅(μ - u)    ⎞                    \n",
       "                                         γ⋅⎜───────── - 1⎟                    \n",
       "                                           ⎝    σ        ⎠                    \n",
       "                                                                              \n",
       "                                                                              \n",
       "                                                                              \n",
       "                                                                              \n",
       "──────────────────────────────────────────────────────────────────────────────\n",
       "                 2                                                            \n",
       "                σ                                                             \n",
       "\n",
       "              r                   \n",
       "            _____                 \n",
       "            ╲                     \n",
       "             ╲                    \n",
       "              ╲       μ - x[i]    \n",
       " u)    ⎞⎞      ╲  ────────────────\n",
       "─── + 1⎟⎟      ╱  γ⋅(μ - x[i])    \n",
       "       ⎠⎟     ╱   ──────────── - 1\n",
       "────────⎟    ╱         σ          \n",
       "        ⎟   ╱                     \n",
       "        ⎟   ‾‾‾‾‾                 \n",
       "        ⎠   i = 1                 \n",
       "───────── - ──────────────────────\n",
       "                      γ           \n",
       "                                  \n",
       "                                  \n",
       "                                  \n",
       "                                  \n",
       "                                  \n",
       "                                  \n",
       "──────────────────────────────────\n",
       "                                  \n",
       "                                  "
      ]
     },
     "execution_count": 20,
     "metadata": {},
     "output_type": "execute_result"
    }
   ],
   "source": [
    "observed_inf[4]"
   ]
  },
  {
   "cell_type": "markdown",
   "metadata": {},
   "source": [
    "Version après simplification :\n",
    "\n",
    "$$\n",
    "\\frac{\\partial^2 l}{\\partial \\sigma \\partial \\gamma} = \n",
    "- \\frac{m}{\\sigma\\gamma^2} v(1+\\gamma v)^{-1/\\gamma - 1} \\log (1+\\gamma v) \n",
    "+ \\frac{m(\\gamma+1)}{\\sigma\\gamma} v^2 (1+\\gamma v)^{-1/\\gamma - 2}\n",
    "+ \\frac{1}{\\sigma} \\sum_{i=1}^r (1+\\gamma z_i)^{-1} z_i \n",
    "- \\frac{\\gamma+1}{\\sigma} \\sum_{i=1}^r z_i^2(1+\\gamma z_i)^{-2}\n",
    "$$\n",
    "\n",
    "Après calcul, on obtient pour l'espérance :\n",
    "\n",
    "$$\n",
    "E\\left[-\\frac{\\partial^2 l}{\\partial \\sigma \\partial \\gamma} \\right] = \n",
    "\\frac{m}{\\sigma\\gamma(\\gamma+1)} (1+\\gamma v)^{-1/\\gamma }\n",
    "- \\frac{m}{\\sigma} v (1+\\gamma v)^{-1/\\gamma - 1} \\left(\\frac{1}{\\gamma +1} - \\frac{\\log (1+\\gamma v)}{\\gamma^2}\\right)\n",
    "- \\frac{m}{\\sigma\\gamma} (1+\\gamma v)^{-1/\\gamma - 2} \\left(v^2 + \\frac{1}{2\\gamma+1}\\right)\n",
    "$$"
   ]
  },
  {
   "cell_type": "code",
   "execution_count": 21,
   "metadata": {},
   "outputs": [
    {
     "data": {
      "image/png": "[encoded data removed]",
      "text/latex": [
       "$\\displaystyle - m \\frac{1}{\\gamma \\sigma} \\left(v^{2} + \\frac{1}{2 \\gamma + 1}\\right) \\left(\\gamma v + 1\\right)^{-2 - \\frac{1}{\\gamma}} + \\left(- \\frac{m \\left(\\gamma v + 1\\right)^{-1 - \\frac{1}{\\gamma}} v{\\left(\\frac{1}{\\gamma + 1} - \\frac{\\log{\\left(\\gamma v + 1 \\right)}}{\\gamma^{2}} \\right)}}{\\sigma} + \\frac{m}{\\sigma \\gamma{\\left(\\gamma + 1 \\right)}} \\left(\\gamma v + 1\\right)^{- \\frac{1}{\\gamma}}\\right)$"
      ],
      "text/plain": [
       "                                                           1                  \n",
       "                                                      -1 - ─                  \n",
       "                                                           γ  ⎛  1     log(γ⋅v\n",
       "                                     1     m⋅(γ⋅v + 1)      ⋅v⎜───── - ───────\n",
       "                                -2 - ─                        ⎜γ + 1          \n",
       "     1  ⎛ 2      1   ⎞               γ                        ⎝               \n",
       "- m⋅───⋅⎜v  + ───────⎟⋅(γ⋅v + 1)       + - ───────────────────────────────────\n",
       "    γ⋅σ ⎝     2⋅γ + 1⎠                                           σ            \n",
       "\n",
       "                                    \n",
       "                                    \n",
       " + 1, 10)⎞                          \n",
       "─────────⎟                       -1 \n",
       " 2       ⎟                       ───\n",
       "γ        ⎠       m                γ \n",
       "────────── + ──────────⋅(γ⋅v + 1)   \n",
       "             σ⋅γ(γ + 1)             "
      ]
     },
     "execution_count": 21,
     "metadata": {},
     "output_type": "execute_result"
    }
   ],
   "source": [
    "observed_fish[4] = parse_latex(r\"\\frac{m}{\\sigma\\gamma(\\gamma+1)} (1+\\gamma v)^{-1/\\gamma } - \\frac{m}{\\sigma} (1+\\gamma v)^{-1/\\gamma - 1}v (\\frac{1}{\\gamma +1} - \\frac{\\log (1+\\gamma v)}{\\gamma^2})- \\frac{m}{\\sigma\\gamma} (1+\\gamma v)^{-1/\\gamma - 2} (v^2 + \\frac{1}{2\\gamma+1})\")\n",
    "\n",
    "observed_fish[4]"
   ]
  },
  {
   "cell_type": "markdown",
   "metadata": {},
   "source": [
    "### Calcul de $\\frac{\\partial^2 l}{\\partial\\gamma^2}$ :"
   ]
  },
  {
   "cell_type": "code",
   "execution_count": 22,
   "metadata": {},
   "outputs": [
    {
     "data": {
      "image/png": "[encoded data removed]",
      "text/latex": [
       "$\\displaystyle \\frac{\\left(1 + \\frac{1}{\\gamma}\\right) \\sum_{i=1}^{r} \\frac{\\left(\\mu - {x}_{i}\\right)^{2}}{\\left(\\frac{\\gamma \\left(\\mu - {x}_{i}\\right)}{\\sigma} - 1\\right)^{2}}}{\\sigma^{2}} + \\frac{m \\left(- \\frac{\\gamma \\left(\\mu - u\\right)}{\\sigma} + 1\\right)^{- \\frac{1}{\\gamma}} \\left(- \\frac{\\left(\\mu - u\\right)^{2}}{\\sigma^{2} \\left(\\frac{\\gamma \\left(\\mu - u\\right)}{\\sigma} - 1\\right)^{2}} - \\frac{2 \\left(\\mu - u\\right)}{\\gamma \\sigma \\left(\\frac{\\gamma \\left(\\mu - u\\right)}{\\sigma} - 1\\right)} + \\frac{2 \\log{\\left(- \\frac{\\gamma \\left(\\mu - u\\right)}{\\sigma} + 1 \\right)}}{\\gamma^{2}}\\right)}{\\gamma} - \\frac{m \\left(- \\frac{\\gamma \\left(\\mu - u\\right)}{\\sigma} + 1\\right)^{- \\frac{1}{\\gamma}} \\left(\\frac{\\mu - u}{\\sigma \\left(- \\frac{\\gamma \\left(\\mu - u\\right)}{\\sigma} + 1\\right)} + \\frac{\\log{\\left(- \\frac{\\gamma \\left(\\mu - u\\right)}{\\sigma} + 1 \\right)}}{\\gamma}\\right)^{2}}{\\gamma^{2}} + \\frac{2 \\sum_{i=1}^{r} \\frac{\\mu - {x}_{i}}{\\frac{\\gamma \\left(\\mu - {x}_{i}\\right)}{\\sigma} - 1}}{\\gamma^{2} \\sigma} - \\frac{2 \\sum_{i=1}^{r} \\log{\\left(- \\frac{\\gamma \\left(\\mu - {x}_{i}\\right)}{\\sigma} + 1 \\right)}}{\\gamma^{3}}$"
      ],
      "text/plain": [
       "          r                                                                   \n",
       "        ______                                                                \n",
       "        ╲                                                                     \n",
       "         ╲                                                                    \n",
       "          ╲                  2                                                \n",
       "           ╲       (μ - x[i])                           -1                    \n",
       "⎛    1⎞     ╲  ───────────────────                      ─── ⎛                 \n",
       "⎜1 + ─⎟⋅    ╱                    2                       γ  ⎜               2 \n",
       "⎝    γ⎠    ╱   ⎛γ⋅(μ - x[i])    ⎞      ⎛  γ⋅(μ - u)    ⎞    ⎜        (μ - u)  \n",
       "          ╱    ⎜──────────── - 1⎟    m⋅⎜- ───────── + 1⎟   ⋅⎜- ───────────────\n",
       "         ╱     ⎝     σ          ⎠      ⎝      σ        ⎠    ⎜                 \n",
       "        ╱                                                   ⎜   2 ⎛γ⋅(μ - u)  \n",
       "        ‾‾‾‾‾‾                                              ⎜  σ ⋅⎜───────── -\n",
       "        i = 1                                               ⎝     ⎝    σ      \n",
       "────────────────────────────────── + ─────────────────────────────────────────\n",
       "                 2                                                            \n",
       "                σ                                                             \n",
       "\n",
       "                                                                              \n",
       "                                                                              \n",
       "                                                                              \n",
       "                                                                              \n",
       "                                                                              \n",
       "                                                                              \n",
       "                                  ⎛  γ⋅(μ - u)    ⎞⎞                      -1  \n",
       "                             2⋅log⎜- ───────── + 1⎟⎟                      ─── \n",
       "            2⋅(μ - u)             ⎝      σ        ⎠⎟                       γ  \n",
       "──── - ─────────────────── + ──────────────────────⎟     ⎛  γ⋅(μ - u)    ⎞    \n",
       "   2       ⎛γ⋅(μ - u)    ⎞              2          ⎟   m⋅⎜- ───────── + 1⎟   ⋅\n",
       "  ⎞    γ⋅σ⋅⎜───────── - 1⎟             γ           ⎟     ⎝      σ        ⎠    \n",
       " 1⎟        ⎝    σ        ⎠                         ⎟                          \n",
       "  ⎠                                                ⎠                          \n",
       "──────────────────────────────────────────────────── - ───────────────────────\n",
       "     γ                                                                        \n",
       "                                                                              \n",
       "\n",
       "                                                                              \n",
       "                                                                              \n",
       "                                                    r                         \n",
       "                                                  _____                       \n",
       "                                                  ╲                           \n",
       "                                                   ╲                          \n",
       "                                            2       ╲       μ - x[i]          \n",
       "⎛                         ⎛  γ⋅(μ - u)    ⎞⎞         ╲  ────────────────      \n",
       "⎜                      log⎜- ───────── + 1⎟⎟    2⋅   ╱  γ⋅(μ - x[i])          \n",
       "⎜       μ - u             ⎝      σ        ⎠⎟        ╱   ──────────── - 1   2⋅ \n",
       "⎜─────────────────── + ────────────────────⎟       ╱         σ                \n",
       "⎜  ⎛  γ⋅(μ - u)    ⎞            γ          ⎟      ╱                           \n",
       "⎜σ⋅⎜- ───────── + 1⎟                       ⎟      ‾‾‾‾‾                       \n",
       "⎝  ⎝      σ        ⎠                       ⎠      i = 1                      i\n",
       "───────────────────────────────────────────── + ──────────────────────── - ───\n",
       "           2                                               2                  \n",
       "          γ                                               γ ⋅σ                \n",
       "\n",
       "                            \n",
       "                            \n",
       "                            \n",
       "                            \n",
       " r                          \n",
       "____                        \n",
       "╲                           \n",
       " ╲                          \n",
       "  ╲     ⎛  γ⋅(μ - x[i])    ⎞\n",
       "  ╱  log⎜- ──────────── + 1⎟\n",
       " ╱      ⎝       σ          ⎠\n",
       "╱                           \n",
       "‾‾‾‾                        \n",
       " = 1                        \n",
       "────────────────────────────\n",
       "             3              \n",
       "            γ               "
      ]
     },
     "execution_count": 22,
     "metadata": {},
     "output_type": "execute_result"
    }
   ],
   "source": [
    "observed_inf[5]"
   ]
  },
  {
   "cell_type": "markdown",
   "metadata": {},
   "source": [
    "Version après simplification :\n",
    "\n",
    "$$\n",
    "\\frac{\\partial^2 l}{\\partial \\gamma^2} =\n",
    "- m (1+\\gamma v)^{-1/\\gamma} \\left[ \\frac{1}{\\gamma}v^2 (1+\\gamma v)^{-2} \n",
    "- \\frac{2}{\\gamma^3}\\log(1+\\gamma v) \n",
    "+ \\frac{2}{\\gamma^2} v(1+\\gamma v)^{-1} \n",
    "+ {\\left(\\frac{1}{\\gamma^2}\\log (1+\\gamma v) \n",
    "- \\frac{1}{\\gamma}v(1+\\gamma v)^{-1} \\right)}^2 \\right] \n",
    "- \\frac{2}{\\gamma^3} \\sum_{i=1}^r \\log(1+\\gamma z_i) \\\\\n",
    "+ \\frac{2}{\\gamma^2} \\sum_{i=1}^r z_i(1+\\gamma z_i)^{-1} \n",
    "+ \\frac{\\gamma+1}{\\gamma} \\sum_{i=1}^r z_i^2(1+\\gamma z_i)^{-2}\n",
    "$$\n",
    "\n",
    "C'est-à-dire :\n",
    "\n",
    "$$\n",
    "\\frac{\\partial^2 l}{\\partial \\gamma^2} =\n",
    "-\\frac{m(\\gamma+1)}{\\gamma^2} v^2 (1+\\gamma v)^{-1/\\gamma-2} \n",
    "- \\frac{2m}{\\gamma^2} v(1+\\gamma v)^{-1/\\gamma-1} \\left( 1 - \\frac{1}{\\gamma}\\log (1+\\gamma v) \\right)\n",
    "+ \\frac{2m}{\\gamma^3}(1+\\gamma v)^{-1/\\gamma} \\log(1+\\gamma v) \\left( 1 - \\frac{1}{2\\gamma} \\log(1+\\gamma v) \\right)\\\\\n",
    "- \\frac{2}{\\gamma^3} \\sum_{i=1}^r \\log(1+\\gamma z_i)\n",
    "+ \\frac{2}{\\gamma^2} \\sum_{i=1}^r z_i(1+\\gamma z_i)^{-1} \n",
    "+ \\frac{\\gamma+1}{\\gamma} \\sum_{i=1}^r z_i^2(1+\\gamma z_i)^{-2}\n",
    "$$\n",
    "\n",
    "Or on a \n",
    "$$\n",
    "E_{N,Z}\\left[\\sum_{i=1}^N \\log \\{1+\\gamma Z_i\\}_+\\right] \n",
    "= m(\\gamma + \\log \\{1+\\gamma v\\}_+) \\{1+\\gamma v\\}_+^{-1/\\gamma}\n",
    "$$\n",
    "$$\n",
    "E_{N,Z}\\left[\\sum_{i=1}^N Z_i\\{1+\\gamma Z_i\\}_+^{-1}\\right] \n",
    "= \\frac{m(1+v+\\gamma v)}{\\gamma+1} \\{1+\\gamma v\\}_+^{-1/\\gamma-1}\n",
    "$$\n",
    "$$\n",
    "E_{N,Z}\\left[\\sum_{i=1}^N Z_i^2\\{1+\\gamma Z_i\\}_+^{-2}\\right] \n",
    "= \\frac{m\\left((\\gamma+1)(2\\gamma+1)v^2+2(2\\gamma+1)v+2\\right)}{(\\gamma+1)(2\\gamma+1)} \\{1+\\gamma v\\}_+^{-1/\\gamma-2}\n",
    "$$\n",
    "\n",
    "Après calcul, on obtient pour l'espérance : \n",
    "\n",
    "$$\n",
    "E\\left[-\\frac{\\partial^2 l}{\\partial \\gamma^2}\\right] =\n",
    "  \\frac{m}{\\gamma^2} (1+\\gamma v)^{-1/\\gamma} \n",
    "- \\frac{2m}{\\gamma^2(1+\\gamma)} (1+\\gamma v)^{-1/\\gamma-1}\n",
    "+ \\frac{m}{\\gamma^2}\\left(v^2+\\frac{1}{2\\gamma +1}\\right) (1+\\gamma v)^{-1/\\gamma-2}\\\\\n",
    "- \\frac{m}{\\gamma^3}(1+\\gamma v)^{-1/\\gamma-1} \\log(1+\\gamma v) \\left(2v - \\frac{1+\\gamma v}{\\gamma} \\log(1+\\gamma v)\\right)\n",
    "$$"
   ]
  },
  {
   "cell_type": "code",
   "execution_count": 23,
   "metadata": {},
   "outputs": [
    {
     "data": {
      "image/png": "[encoded data removed]",
      "text/latex": [
       "$\\displaystyle \\left(\\frac{m}{\\gamma^{2}} \\left(v^{2} + \\frac{1}{2 \\gamma + 1}\\right) \\left(\\gamma v + 1\\right)^{-2 - \\frac{1}{\\gamma}} + \\left(- 2 m \\frac{1}{\\gamma^{2} \\left(\\gamma + 1\\right)} \\left(\\gamma v + 1\\right)^{-1 - \\frac{1}{\\gamma}} + \\frac{m}{\\gamma^{2}} \\left(\\gamma v + 1\\right)^{- \\frac{1}{\\gamma}}\\right)\\right) - \\frac{m \\left(2 v - \\frac{\\left(\\gamma v + 1\\right) \\log{\\left(\\gamma v + 1 \\right)}}{\\gamma}\\right) \\left(\\gamma v + 1\\right)^{-1 - \\frac{1}{\\gamma}} \\log{\\left(\\gamma v + 1 \\right)}}{\\gamma^{3}}$"
      ],
      "text/plain": [
       "                                                                              \n",
       "                                                                              \n",
       "                                1                                  1          \n",
       "                           -2 - ─                             -1 - ─          \n",
       "m  ⎛ 2      1   ⎞               γ             1                    γ   m      \n",
       "──⋅⎜v  + ───────⎟⋅(γ⋅v + 1)       + - 2⋅m⋅──────────⋅(γ⋅v + 1)       + ──⋅(γ⋅v\n",
       " 2 ⎝     2⋅γ + 1⎠                          2                            2     \n",
       "γ                                         γ ⋅(γ + 1)                   γ      \n",
       "\n",
       "                                                              1               \n",
       "                                                         -1 - ─               \n",
       "     -1      ⎛      (γ⋅v + 1)⋅log(γ⋅v + 1, 10)⎞               γ               \n",
       "     ───   m⋅⎜2⋅v - ──────────────────────────⎟⋅(γ⋅v + 1)      ⋅log(γ⋅v + 1, 1\n",
       "      γ      ⎝                  γ             ⎠                               \n",
       " + 1)    - ───────────────────────────────────────────────────────────────────\n",
       "                                              3                               \n",
       "                                             γ                                \n",
       "\n",
       "  \n",
       "  \n",
       "  \n",
       "0)\n",
       "  \n",
       "──\n",
       "  \n",
       "  "
      ]
     },
     "execution_count": 23,
     "metadata": {},
     "output_type": "execute_result"
    }
   ],
   "source": [
    "observed_fish[5] = parse_latex(r\"\\frac{m}{\\gamma^2} (1+\\gamma v)^{-1/\\gamma} - \\frac{2m}{\\gamma^2(1+\\gamma)} (1+\\gamma v)^{-1/\\gamma-1}+ \\frac{m}{\\gamma^2}(v^2+\\frac{1}{2\\gamma +1}) (1+\\gamma v)^{-1/\\gamma-2}- \\frac{m}{\\gamma^3}(1+\\gamma v)^{-1/\\gamma-1} \\log(1+\\gamma v) (2v - \\frac{1+\\gamma v}{\\gamma} \\log(1+\\gamma v))\")\n",
    "\n",
    "observed_fish[5]"
   ]
  },
  {
   "cell_type": "markdown",
   "metadata": {},
   "source": [
    "## Exploitation de la matrice d'information de Fisher\n",
    "\n",
    "En notant que tout les termes de la matrice d'information de fisher peuvent être factorisé par \n",
    "$m(1+\\gamma v)^{-1/\\gamma -2}$, nous considérons la matrice $\\frac{1}{m(1+\\gamma v)^{-1/\\gamma -2}}I(\\theta)$ dans un premier temps."
   ]
  },
  {
   "cell_type": "code",
   "execution_count": 24,
   "metadata": {},
   "outputs": [
    {
     "data": {
      "text/latex": [
       "$\\displaystyle \\left[\\begin{matrix}\\frac{\\left(\\gamma + 1\\right)^{2}}{\\sigma^{2} \\left(2 \\gamma + 1\\right)} & \\frac{- \\frac{\\gamma}{2 \\gamma + 1} + v}{\\sigma^{2}} & \\frac{\\left(\\gamma v + 1\\right) \\left(- \\frac{1}{\\gamma + 1} + \\frac{\\log{\\left(\\gamma v + 1 \\right)}}{\\gamma^{2}}\\right)}{\\sigma} + \\frac{\\frac{\\gamma}{2 \\gamma + 1} - v}{\\gamma \\sigma}\\\\\\frac{- \\frac{\\gamma}{2 \\gamma + 1} + v}{\\sigma^{2}} & \\frac{v^{2} + \\frac{1}{2 \\gamma + 1}}{\\sigma^{2}} & - \\frac{v \\left(\\gamma v + 1\\right) \\left(\\frac{1}{\\gamma + 1} - \\frac{\\log{\\left(\\gamma v + 1 \\right)}}{\\gamma^{2}}\\right)}{\\sigma} - \\frac{v^{2} + \\frac{1}{2 \\gamma + 1}}{\\gamma \\sigma} + \\frac{\\left(\\gamma v + 1\\right)^{2}}{\\gamma \\sigma \\left(\\gamma + 1\\right)}\\\\\\frac{\\left(\\gamma v + 1\\right) \\left(- \\frac{1}{\\gamma + 1} + \\frac{\\log{\\left(\\gamma v + 1 \\right)}}{\\gamma^{2}}\\right)}{\\sigma} + \\frac{\\frac{\\gamma}{2 \\gamma + 1} - v}{\\gamma \\sigma} & - \\frac{v \\left(\\gamma v + 1\\right) \\left(\\frac{1}{\\gamma + 1} - \\frac{\\log{\\left(\\gamma v + 1 \\right)}}{\\gamma^{2}}\\right)}{\\sigma} - \\frac{v^{2} + \\frac{1}{2 \\gamma + 1}}{\\gamma \\sigma} + \\frac{\\left(\\gamma v + 1\\right)^{2}}{\\gamma \\sigma \\left(\\gamma + 1\\right)} & \\frac{v^{2} + \\frac{1}{2 \\gamma + 1}}{\\gamma^{2}} + \\frac{\\left(\\gamma v + 1\\right)^{2}}{\\gamma^{2}} - \\frac{2 \\left(\\gamma v + 1\\right)}{\\gamma^{2} \\left(\\gamma + 1\\right)} - \\frac{\\left(2 v - \\frac{\\left(\\gamma v + 1\\right) \\log{\\left(\\gamma v + 1 \\right)}}{\\gamma}\\right) \\left(\\gamma v + 1\\right) \\log{\\left(\\gamma v + 1 \\right)}}{\\gamma^{3}}\\end{matrix}\\right]$"
      ],
      "text/plain": [
       "⎡                                                                             \n",
       "⎢                                                                             \n",
       "⎢                           2                                                -\n",
       "⎢                    (γ + 1)                                                  \n",
       "⎢                  ────────────                                              ─\n",
       "⎢                   2                                                         \n",
       "⎢                  σ ⋅(2⋅γ + 1)                                               \n",
       "⎢                                                                             \n",
       "⎢                                                                             \n",
       "⎢                      γ                                                      \n",
       "⎢                 - ─────── + v                                              v\n",
       "⎢                   2⋅γ + 1                                                   \n",
       "⎢                 ─────────────                                              ─\n",
       "⎢                        2                                                    \n",
       "⎢                       σ                                                     \n",
       "⎢                                                                             \n",
       "⎢          ⎛    1     log(γ⋅v + 1)⎞                              ⎛  1     log(\n",
       "⎢(γ⋅v + 1)⋅⎜- ───── + ────────────⎟      γ           v⋅(γ⋅v + 1)⋅⎜───── - ────\n",
       "⎢          ⎜  γ + 1         2     ⎟   ─────── - v                ⎜γ + 1       \n",
       "⎢          ⎝               γ      ⎠   2⋅γ + 1                    ⎝            \n",
       "⎢────────────────────────────────── + ───────────  - ─────────────────────────\n",
       "⎢                σ                        γ⋅σ                        σ        \n",
       "⎣                                                                             \n",
       "\n",
       "                                                                         ⎛    \n",
       "    γ                                                          (γ⋅v + 1)⋅⎜- ──\n",
       " ─────── + v                                                             ⎜  γ \n",
       " 2⋅γ + 1                                                                 ⎝    \n",
       "────────────                                                   ───────────────\n",
       "      2                                                                       \n",
       "     σ                                                                        \n",
       "                                                                              \n",
       "                                                                     ⎛  1     \n",
       "2      1                                                 v⋅(γ⋅v + 1)⋅⎜───── - \n",
       "  + ───────                                                          ⎜γ + 1   \n",
       "    2⋅γ + 1                                                          ⎝        \n",
       "───────────                                            - ─────────────────────\n",
       "     2                                                                   σ    \n",
       "    σ                                                                         \n",
       "                                                                              \n",
       "γ⋅v + 1)⎞                                                                     \n",
       "────────⎟    2      1                    2      1                             \n",
       "  2     ⎟   v  + ───────             2  v  + ───────            2             \n",
       " γ      ⎠        2⋅γ + 1    (γ⋅v + 1)        2⋅γ + 1   (γ⋅v + 1)    2⋅(γ⋅v + 1\n",
       "───────── - ──────────── + ───────────  ──────────── + ────────── - ──────────\n",
       "                γ⋅σ        γ⋅σ⋅(γ + 1)        2             2         2       \n",
       "                                             γ             γ         γ ⋅(γ + 1\n",
       "\n",
       "1     log(γ⋅v + 1)⎞                                      ⎤\n",
       "─── + ────────────⎟      γ                               ⎥\n",
       "+ 1         2     ⎟   ─────── - v                        ⎥\n",
       "           γ      ⎠   2⋅γ + 1                            ⎥\n",
       "─────────────────── + ───────────                        ⎥\n",
       " σ                        γ⋅σ                            ⎥\n",
       "                                                         ⎥\n",
       "                                                         ⎥\n",
       "log(γ⋅v + 1)⎞                                            ⎥\n",
       "────────────⎟    2      1                                ⎥\n",
       "      2     ⎟   v  + ───────             2               ⎥\n",
       "     γ      ⎠        2⋅γ + 1    (γ⋅v + 1)                ⎥\n",
       "───────────── - ──────────── + ───────────               ⎥\n",
       "                    γ⋅σ        γ⋅σ⋅(γ + 1)               ⎥\n",
       "                                                         ⎥\n",
       "                                                         ⎥\n",
       "                                                         ⎥\n",
       "    ⎛      (γ⋅v + 1)⋅log(γ⋅v + 1)⎞                       ⎥\n",
       "    ⎜2⋅v - ──────────────────────⎟⋅(γ⋅v + 1)⋅log(γ⋅v + 1)⎥\n",
       ")   ⎝                γ           ⎠                       ⎥\n",
       "─ - ─────────────────────────────────────────────────────⎥\n",
       "                               3                         ⎥\n",
       ")                             γ                          ⎦"
      ]
     },
     "execution_count": 24,
     "metadata": {},
     "output_type": "execute_result"
    }
   ],
   "source": [
    "factor_term = m*(1+gam*v)**(-1/gam -2)\n",
    "\n",
    "m11 = ((gam + 1)**2)/((sig**2*(2*gam + 1)))\n",
    "m12 = (1/sig**2)*(-gam/(2*gam + 1) + v)\n",
    "m13 = (1/sig)*((gam*v + 1)*(-1/(gam + 1) + log(gam*v + 1)/gam**2)) \\\n",
    "    + (1/((gam*sig)))*(gam/(2*gam + 1) - v)\n",
    "m22 = (1/sig**2)*(v**2 + 1/(2*gam + 1))\n",
    "m23 = -1/(gam*sig)*(v**2 + 1/(2*gam + 1)) - (gam*v + 1)*v*(-log(gam*v + 1)/gam**2 \\\n",
    "      + 1/(gam + 1))/sig + (1/((sig*gam*(gam + 1))))*(gam*v + 1)**(2)\n",
    "m33 = (1/gam**2)*(v**2 + 1/(2*gam + 1)) - 2/(gam**2*(gam + 1))*(gam*v + 1) \\\n",
    "    + (1/gam**2)*(gam*v + 1)**(2) - (2*v - (gam*v + 1)*log(gam*v + 1)/gam)*(gam*v + 1)*log(gam*v + 1)/gam**3\n",
    "\n",
    "\n",
    "\n",
    "Inf_matrix = Matrix([[m11, m12, m13],\n",
    "                     [m12, m22, m23],\n",
    "                     [m13, m23, m33]])\n",
    "                    \n",
    "Inf_matrix"
   ]
  },
  {
   "cell_type": "code",
   "execution_count": 38,
   "metadata": {},
   "outputs": [
    {
     "data": {
      "image/png": "[encoded data removed]",
      "text/latex": [
       "$\\displaystyle \\frac{\\left(\\gamma v + 1\\right)^{4}}{\\sigma^{4} \\left(\\gamma + 1\\right)^{2} \\left(2 \\gamma + 1\\right)}$"
      ],
      "text/plain": [
       "               4     \n",
       "      (γ⋅v + 1)      \n",
       "─────────────────────\n",
       " 4        2          \n",
       "σ ⋅(γ + 1) ⋅(2⋅γ + 1)"
      ]
     },
     "execution_count": 38,
     "metadata": {},
     "output_type": "execute_result"
    }
   ],
   "source": [
    "det = Inf_matrix.det()\n",
    "factor(det)"
   ]
  },
  {
   "cell_type": "code",
   "execution_count": 40,
   "metadata": {},
   "outputs": [
    {
     "data": {
      "image/png": "[encoded data removed]",
      "text/latex": [
       "$\\displaystyle \\sqrt{\\frac{m^{3} \\left(\\gamma v + 1\\right)^{4} \\left(\\gamma v + 1\\right)^{-6 - \\frac{3}{\\gamma}}}{\\sigma^{4} \\left(\\gamma + 1\\right)^{2} \\left(2 \\gamma + 1\\right)}}$"
      ],
      "text/plain": [
       "        _______________________________\n",
       "       ╱                             3 \n",
       "      ╱                         -6 - ─ \n",
       "     ╱    3          4               γ \n",
       "    ╱    m ⋅(γ⋅v + 1) ⋅(γ⋅v + 1)       \n",
       "   ╱     ───────────────────────────── \n",
       "  ╱           4        2               \n",
       "╲╱           σ ⋅(γ + 1) ⋅(2⋅γ + 1)     "
      ]
     },
     "execution_count": 40,
     "metadata": {},
     "output_type": "execute_result"
    }
   ],
   "source": [
    "fisher_prior = factor(det)*factor_term**3\n",
    "fisher_prior = sqrt(fisher_prior)\n",
    "fisher_prior"
   ]
  },
  {
   "cell_type": "code",
   "execution_count": null,
   "metadata": {},
   "outputs": [],
   "source": []
  },
  {
   "cell_type": "code",
   "execution_count": 41,
   "metadata": {},
   "outputs": [
    {
     "data": {
      "image/png": "[encoded data removed]",
      "text/latex": [
       "$\\displaystyle \\sqrt{\\frac{1}{\\left(\\gamma + 1\\right)^{2} \\left(2 \\gamma + 1\\right)}}$"
      ],
      "text/plain": [
       "     ____________________\n",
       "    ╱         1          \n",
       "   ╱  ────────────────── \n",
       "  ╱          2           \n",
       "╲╱    (γ + 1) ⋅(2⋅γ + 1) "
      ]
     },
     "execution_count": 41,
     "metadata": {},
     "output_type": "execute_result"
    }
   ],
   "source": [
    "fisher_prior01 = fisher_prior.subs(sig,1).subs(v,0).subs(m,1)\n",
    "fisher_prior01"
   ]
  },
  {
   "cell_type": "code",
   "execution_count": 32,
   "metadata": {},
   "outputs": [
    {
     "data": {
      "image/png": "[encoded data removed]",
      "text/plain": [
       "<Figure size 432x288 with 1 Axes>"
      ]
     },
     "metadata": {
      "needs_background": "light"
     },
     "output_type": "display_data"
    },
    {
     "data": {
      "text/plain": [
       "<sympy.plotting.plot.Plot at 0x7f399a94aa90>"
      ]
     },
     "execution_count": 32,
     "metadata": {},
     "output_type": "execute_result"
    }
   ],
   "source": [
    "plot(fisher_prior01, \n",
    "     xlim=(-1,5),\n",
    "     ylim = (-1,5),\n",
    "     xlabel = \"$\\gamma$\",\n",
    "     ylabel = \"$\\pi$\")"
   ]
  },
  {
   "cell_type": "code",
   "execution_count": 33,
   "metadata": {},
   "outputs": [
    {
     "data": {
      "image/png": "[encoded data removed]",
      "text/latex": [
       "$\\displaystyle 3.14159265358979$"
      ],
      "text/plain": [
       "3.14159265358979"
      ]
     },
     "execution_count": 33,
     "metadata": {},
     "output_type": "execute_result"
    }
   ],
   "source": [
    "Integral(fisher_prior01, (gam, -0.5, +oo)).evalf()"
   ]
  },
  {
   "cell_type": "code",
   "execution_count": 42,
   "metadata": {},
   "outputs": [
    {
     "data": {
      "image/png": "[encoded data removed]",
      "text/latex": [
       "$\\displaystyle \\sqrt{\\frac{\\left(\\gamma + 1\\right)^{2} \\left(\\gamma + 1\\right)^{-6 - \\frac{3}{\\gamma}}}{2 \\gamma + 1}}$"
      ],
      "text/plain": [
       "       ________________________\n",
       "      ╱                      3 \n",
       "     ╱                  -6 - ─ \n",
       "    ╱          2             γ \n",
       "   ╱    (γ + 1) ⋅(γ + 1)       \n",
       "  ╱     ────────────────────── \n",
       "╲╱             2⋅γ + 1         "
      ]
     },
     "execution_count": 42,
     "metadata": {},
     "output_type": "execute_result"
    }
   ],
   "source": [
    "fisher_prior11 = fisher_prior.subs(sig,1).subs(v,1).subs(m,1)\n",
    "fisher_prior11"
   ]
  },
  {
   "cell_type": "code",
   "execution_count": 35,
   "metadata": {},
   "outputs": [
    {
     "name": "stderr",
     "output_type": "stream",
     "text": [
      "<string>:1: RuntimeWarning: invalid value encountered in double_scalars\n"
     ]
    },
    {
     "data": {
      "image/png": "[encoded data removed]",
      "text/plain": [
       "<Figure size 432x288 with 1 Axes>"
      ]
     },
     "metadata": {
      "needs_background": "light"
     },
     "output_type": "display_data"
    },
    {
     "data": {
      "text/plain": [
       "<sympy.plotting.plot.Plot at 0x7f3998388e48>"
      ]
     },
     "execution_count": 35,
     "metadata": {},
     "output_type": "execute_result"
    }
   ],
   "source": [
    "plot(fisher_prior11, \n",
    "     xlim=(-1,5),\n",
    "     ylim = (-1,5),\n",
    "     xlabel = \"$\\gamma$\",\n",
    "     ylabel = \"$\\pi$\")"
   ]
  },
  {
   "cell_type": "code",
   "execution_count": 36,
   "metadata": {},
   "outputs": [
    {
     "data": {
      "image/png": "[encoded data removed]",
      "text/latex": [
       "$\\displaystyle 0.57589227138386$"
      ],
      "text/plain": [
       "0.575892271383860"
      ]
     },
     "execution_count": 36,
     "metadata": {},
     "output_type": "execute_result"
    }
   ],
   "source": [
    "Integral(fisher_prior11, (gam, -0.5, +oo)).evalf()"
   ]
  },
  {
   "cell_type": "code",
   "execution_count": 37,
   "metadata": {},
   "outputs": [
    {
     "name": "stderr",
     "output_type": "stream",
     "text": [
      "<string>:1: RuntimeWarning: invalid value encountered in double_scalars\n"
     ]
    },
    {
     "data": {
      "image/png": "[encoded data removed]",
      "text/plain": [
       "<Figure size 432x288 with 1 Axes>"
      ]
     },
     "metadata": {
      "needs_background": "light"
     },
     "output_type": "display_data"
    },
    {
     "data": {
      "text/plain": [
       "<sympy.plotting.plot.Plot at 0x7f3997ebeba8>"
      ]
     },
     "execution_count": 37,
     "metadata": {},
     "output_type": "execute_result"
    }
   ],
   "source": [
    "fisher_prior_test = fisher_prior.subs(sig,1).subs(v,2).subs(m,1)\n",
    "plot(fisher_prior_test, \n",
    "     xlim=(-1,5),\n",
    "#      ylim = (-1,10),\n",
    "     xlabel = \"$\\gamma$\",\n",
    "     ylabel = \"$\\pi$\")"
   ]
  },
  {
   "cell_type": "code",
   "execution_count": 46,
   "metadata": {},
   "outputs": [],
   "source": [
    "acov = Inf_matrix**-1"
   ]
  },
  {
   "cell_type": "code",
   "execution_count": 61,
   "metadata": {},
   "outputs": [
    {
     "data": {
      "image/png": "[encoded data removed]",
      "text/latex": [
       "$\\displaystyle \\frac{\\sigma \\left(\\gamma + 1\\right) \\left(2 \\gamma^{2} v + \\gamma v - \\gamma \\log{\\left(\\gamma v + 1 \\right)} - \\log{\\left(\\gamma v + 1 \\right)}\\right)}{\\gamma^{2} \\left(\\gamma v + 1\\right)^{2}}$"
      ],
      "text/plain": [
       "          ⎛   2                                        ⎞\n",
       "σ⋅(γ + 1)⋅⎝2⋅γ ⋅v + γ⋅v - γ⋅log(γ⋅v + 1) - log(γ⋅v + 1)⎠\n",
       "────────────────────────────────────────────────────────\n",
       "                      2          2                      \n",
       "                     γ ⋅(γ⋅v + 1)                       "
      ]
     },
     "execution_count": 61,
     "metadata": {},
     "output_type": "execute_result"
    }
   ],
   "source": [
    "factor(acov[2])"
   ]
  },
  {
   "cell_type": "code",
   "execution_count": 64,
   "metadata": {},
   "outputs": [
    {
     "data": {
      "image/png": "[encoded data removed]",
      "text/latex": [
       "$\\displaystyle - \\frac{\\sigma^{2} \\left(2 \\gamma^{4} v - \\gamma^{4} + 2 \\gamma^{3} v \\log{\\left(\\gamma v + 1 \\right)} + 3 \\gamma^{3} v + 3 \\gamma^{2} v \\log{\\left(\\gamma v + 1 \\right)} + \\gamma^{2} v - \\gamma^{2} \\log{\\left(\\gamma v + 1 \\right)}^{2} - \\gamma^{2} \\log{\\left(\\gamma v + 1 \\right)} + \\gamma v \\log{\\left(\\gamma v + 1 \\right)} - 2 \\gamma \\log{\\left(\\gamma v + 1 \\right)}^{2} - \\gamma \\log{\\left(\\gamma v + 1 \\right)} - \\log{\\left(\\gamma v + 1 \\right)}^{2}\\right)}{\\gamma^{3} \\left(\\gamma v + 1\\right)^{2}}$"
      ],
      "text/plain": [
       "  2 ⎛   4      4      3                     3        2                   2    \n",
       "-σ ⋅⎝2⋅γ ⋅v - γ  + 2⋅γ ⋅v⋅log(γ⋅v + 1) + 3⋅γ ⋅v + 3⋅γ ⋅v⋅log(γ⋅v + 1) + γ ⋅v -\n",
       "──────────────────────────────────────────────────────────────────────────────\n",
       "                                                                              \n",
       "                                                                              \n",
       "\n",
       "  2    2             2                                          2             \n",
       " γ ⋅log (γ⋅v + 1) - γ ⋅log(γ⋅v + 1) + γ⋅v⋅log(γ⋅v + 1) - 2⋅γ⋅log (γ⋅v + 1) - γ\n",
       "──────────────────────────────────────────────────────────────────────────────\n",
       "          3          2                                                        \n",
       "         γ ⋅(γ⋅v + 1)                                                         \n",
       "\n",
       "                   2         ⎞ \n",
       "⋅log(γ⋅v + 1) - log (γ⋅v + 1)⎠ \n",
       "───────────────────────────────\n",
       "                               \n",
       "                               "
      ]
     },
     "execution_count": 64,
     "metadata": {},
     "output_type": "execute_result"
    }
   ],
   "source": [
    "factor(acov[1])"
   ]
  },
  {
   "cell_type": "code",
   "execution_count": 66,
   "metadata": {},
   "outputs": [
    {
     "data": {
      "image/png": "[encoded data removed]",
      "text/latex": [
       "$\\displaystyle - \\frac{\\sigma \\left(\\gamma + 1\\right) \\left(\\gamma \\log{\\left(\\gamma v + 1 \\right)} + \\gamma + \\log{\\left(\\gamma v + 1 \\right)}\\right)}{\\gamma \\left(\\gamma v + 1\\right)^{2}}$"
      ],
      "text/plain": [
       "-σ⋅(γ + 1)⋅(γ⋅log(γ⋅v + 1) + γ + log(γ⋅v + 1)) \n",
       "───────────────────────────────────────────────\n",
       "                             2                 \n",
       "                  γ⋅(γ⋅v + 1)                  "
      ]
     },
     "execution_count": 66,
     "metadata": {},
     "output_type": "execute_result"
    }
   ],
   "source": [
    "factor(acov[5])"
   ]
  },
  {
   "cell_type": "code",
   "execution_count": null,
   "metadata": {},
   "outputs": [],
   "source": []
  },
  {
   "cell_type": "code",
   "execution_count": 69,
   "metadata": {},
   "outputs": [
    {
     "data": {
      "image/png": "[encoded data removed]",
      "text/latex": [
       "$\\displaystyle \\sqrt{\\frac{m^{3} \\left(\\frac{\\gamma \\left(- \\mu + u\\right)}{\\sigma} + 1\\right)^{4} \\left(\\frac{\\gamma \\left(- \\mu + u\\right)}{\\sigma} + 1\\right)^{-6 - \\frac{3}{\\gamma}}}{\\sigma^{4} \\left(\\gamma + 1\\right)^{2} \\left(2 \\gamma + 1\\right)}}$"
      ],
      "text/plain": [
       "          _____________________________________________\n",
       "         ╱                                           3 \n",
       "        ╱                                       -6 - ─ \n",
       "       ╱                      4                      γ \n",
       "      ╱     3 ⎛γ⋅(-μ + u)    ⎞  ⎛γ⋅(-μ + u)    ⎞       \n",
       "     ╱     m ⋅⎜────────── + 1⎟ ⋅⎜────────── + 1⎟       \n",
       "    ╱         ⎝    σ         ⎠  ⎝    σ         ⎠       \n",
       "   ╱       ─────────────────────────────────────────── \n",
       "  ╱                    4        2                      \n",
       "╲╱                    σ ⋅(γ + 1) ⋅(2⋅γ + 1)            "
      ]
     },
     "execution_count": 69,
     "metadata": {},
     "output_type": "execute_result"
    }
   ],
   "source": [
    "fisher_prior.subs(v, (u-mu)/sig).subs(m,1)"
   ]
  },
  {
   "cell_type": "code",
   "execution_count": null,
   "metadata": {},
   "outputs": [],
   "source": []
  },
  {
   "cell_type": "code",
   "execution_count": null,
   "metadata": {},
   "outputs": [],
   "source": []
  },
  {
   "cell_type": "code",
   "execution_count": null,
   "metadata": {},
   "outputs": [],
   "source": []
  }
 ],
 "metadata": {
  "kernelspec": {
   "display_name": "Python 3",
   "language": "python",
   "name": "python3"
  },
  "language_info": {
   "codemirror_mode": {
    "name": "ipython",
    "version": 3
   },
   "file_extension": ".py",
   "mimetype": "text/x-python",
   "name": "python",
   "nbconvert_exporter": "python",
   "pygments_lexer": "ipython3",
   "version": "3.6.9"
  }
 },
 "nbformat": 4,
 "nbformat_minor": 4
}
