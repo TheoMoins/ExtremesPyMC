{
 "cells": [
  {
   "cell_type": "markdown",
   "metadata": {},
   "source": [
    "#  Calcul formel pour inférience bayésienne de processus de Poisson pour extremes\n",
    "\n",
    "\n",
    "Il existe une librairie `stats` de Scipy pour les extrêmes la possibilité d'évaluer la cdf, pdf, etc., et même une fonction \"fit\" par MLE.\n",
    "\n",
    "*Attention cependant* : `genextreme.pdf(x, c, loc, scale)` = $f_{GEV}(x|\\mu, \\sigma, -\\xi)$  "
   ]
  },
  {
   "cell_type": "markdown",
   "metadata": {},
   "source": [
    "### Classe pour la distribution GEV"
   ]
  },
  {
   "cell_type": "code",
   "execution_count": 1,
   "metadata": {},
   "outputs": [],
   "source": [
    "import numpy as np\n",
    "from sympy import *\n",
    "from sympy.stats import *\n",
    "import matplotlib.pyplot as plt\n",
    "\n",
    "from GEV_rv import GEV_Variable\n",
    "\n",
    "init_printing()"
   ]
  },
  {
   "cell_type": "code",
   "execution_count": 2,
   "metadata": {},
   "outputs": [
    {
     "data": {
      "text/latex": [
       "$\\displaystyle \\begin{cases} e^{- e^{\\frac{\\mu - x}{\\sigma}}} & \\text{for}\\: \\gamma = 0 \\\\e^{- \\left(\\frac{\\gamma \\left(- \\mu + x\\right)}{\\sigma} + 1\\right)^{- \\frac{1}{\\gamma}}} & \\text{otherwise} \\end{cases}$"
      ],
      "text/plain": [
       "⎧         μ - x                  \n",
       "⎪         ─────                  \n",
       "⎪           σ                    \n",
       "⎪       -ℯ                       \n",
       "⎪      ℯ                for γ = 0\n",
       "⎪                                \n",
       "⎨                  -1            \n",
       "⎪                  ───           \n",
       "⎪                   γ            \n",
       "⎪  ⎛γ⋅(-μ + x)    ⎞              \n",
       "⎪ -⎜────────── + 1⎟              \n",
       "⎪  ⎝    σ         ⎠              \n",
       "⎩ℯ                      otherwise"
      ]
     },
     "execution_count": 2,
     "metadata": {},
     "output_type": "execute_result"
    }
   ],
   "source": [
    "X = GEV_Variable()\n",
    "X.get_cdf()"
   ]
  },
  {
   "cell_type": "code",
   "execution_count": 3,
   "metadata": {},
   "outputs": [
    {
     "data": {
      "text/latex": [
       "$\\displaystyle \\begin{cases} \\left(-\\infty, \\mu - \\frac{\\sigma}{\\gamma}\\right] & \\text{for}\\: \\gamma < 0 \\\\\\left(-\\infty, \\infty\\right) & \\text{for}\\: \\gamma = 0 \\\\\\left[\\mu - \\frac{\\sigma}{\\gamma}, \\infty\\right) & \\text{otherwise} \\end{cases}$"
      ],
      "text/plain": [
       "⎧⎛        σ⎤           \n",
       "⎪⎜-∞, μ - ─⎥  for γ < 0\n",
       "⎪⎝        γ⎦           \n",
       "⎪                      \n",
       "⎨  (-∞, ∞)    for γ = 0\n",
       "⎪                      \n",
       "⎪⎡    σ   ⎞            \n",
       "⎪⎢μ - ─, ∞⎟   otherwise\n",
       "⎩⎣    γ   ⎠            "
      ]
     },
     "execution_count": 3,
     "metadata": {},
     "output_type": "execute_result"
    }
   ],
   "source": [
    "X.def_set()\n"
   ]
  },
  {
   "cell_type": "code",
   "execution_count": 4,
   "metadata": {},
   "outputs": [
    {
     "name": "stdout",
     "output_type": "stream",
     "text": [
      "0.846481724890614\n"
     ]
    }
   ],
   "source": [
    "X.eval_params(Mu=0, Sig=1, Gam=1)\n",
    "print(X.eval_cdf(5))"
   ]
  },
  {
   "cell_type": "code",
   "execution_count": 5,
   "metadata": {},
   "outputs": [
    {
     "data": {
      "image/png": "[encoded data removed]",
      "text/latex": [
       "$\\displaystyle \\left[-1.0, \\infty\\right)$"
      ],
      "text/plain": [
       "[-1.0, ∞)"
      ]
     },
     "execution_count": 5,
     "metadata": {},
     "output_type": "execute_result"
    }
   ],
   "source": [
    "X.def_set()"
   ]
  },
  {
   "cell_type": "code",
   "execution_count": 6,
   "metadata": {},
   "outputs": [
    {
     "data": {
      "image/png": "[encoded data removed]",
      "text/latex": [
       "$\\displaystyle e^{- e^{\\frac{\\mu - 5}{\\sigma}}}$"
      ],
      "text/plain": [
       "   μ - 5\n",
       "   ─────\n",
       "     σ  \n",
       " -ℯ     \n",
       "ℯ       "
      ]
     },
     "execution_count": 6,
     "metadata": {},
     "output_type": "execute_result"
    }
   ],
   "source": [
    "X.reparameterize()\n",
    "X.eval_params(Gam=0)\n",
    "X.eval_cdf(5)"
   ]
  },
  {
   "cell_type": "code",
   "execution_count": 7,
   "metadata": {},
   "outputs": [
    {
     "data": {
      "image/png": "[encoded data removed]",
      "text/latex": [
       "$\\displaystyle \\frac{e^{\\frac{\\mu}{\\sigma}} \\int\\limits_{0}^{\\infty} e^{- \\frac{z}{\\sigma}} e^{- e^{- \\frac{z}{\\sigma}} e^{\\frac{\\mu}{\\sigma}}}\\, dz}{\\sigma}$"
      ],
      "text/plain": [
       "   ∞                  \n",
       "   ⌠                  \n",
       "   ⎮         -z   μ   \n",
       " μ ⎮  -z     ───  ─   \n",
       " ─ ⎮  ───     σ   σ   \n",
       " σ ⎮   σ   -ℯ   ⋅ℯ    \n",
       "ℯ ⋅⎮ ℯ   ⋅ℯ         dz\n",
       "   ⌡                  \n",
       "   0                  \n",
       "──────────────────────\n",
       "          σ           "
      ]
     },
     "execution_count": 7,
     "metadata": {},
     "output_type": "execute_result"
    }
   ],
   "source": [
    "R = X.sympy_rv()\n",
    "P(R>0)"
   ]
  },
  {
   "cell_type": "code",
   "execution_count": 8,
   "metadata": {},
   "outputs": [
    {
     "data": {
      "image/png": "[encoded data removed]",
      "text/latex": [
       "$\\displaystyle 1.0 - \\frac{1.0}{e}$"
      ],
      "text/plain": [
       "       -1\n",
       "1.0 - ℯ  "
      ]
     },
     "execution_count": 8,
     "metadata": {},
     "output_type": "execute_result"
    }
   ],
   "source": [
    "\n",
    "X.eval_params(Mu=0, Sig=1)\n",
    "R = X.sympy_rv()\n",
    "P(R>0)"
   ]
  },
  {
   "cell_type": "code",
   "execution_count": null,
   "metadata": {},
   "outputs": [],
   "source": []
  },
  {
   "cell_type": "code",
   "execution_count": null,
   "metadata": {},
   "outputs": [],
   "source": []
  },
  {
   "cell_type": "code",
   "execution_count": null,
   "metadata": {},
   "outputs": [],
   "source": []
  }
 ],
 "metadata": {
  "kernelspec": {
   "display_name": "Python 3",
   "language": "python",
   "name": "python3"
  },
  "language_info": {
   "codemirror_mode": {
    "name": "ipython",
    "version": 3
   },
   "file_extension": ".py",
   "mimetype": "text/x-python",
   "name": "python",
   "nbconvert_exporter": "python",
   "pygments_lexer": "ipython3",
   "version": "3.6.9"
  }
 },
 "nbformat": 4,
 "nbformat_minor": 4
}
