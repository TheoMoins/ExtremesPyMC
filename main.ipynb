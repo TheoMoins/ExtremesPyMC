{
 "cells": [
  {
   "cell_type": "markdown",
   "metadata": {},
   "source": [
    "## Utilisation de la libraire `stats` de Scipy pour les extrêmes \n",
    "\n",
    "*Attention* : `genextreme.pdf(x, c, loc, scale)` = $f_{GEV}(x|\\mu, \\sigma, -\\xi)$  "
   ]
  },
  {
   "cell_type": "code",
   "execution_count": 1,
   "metadata": {},
   "outputs": [],
   "source": [
    "import numpy as np\n",
    "from sympy import *\n",
    "from sympy.stats import *\n",
    "import matplotlib.pyplot as plt\n",
    "\n",
    "from random_variable import GEV_Variable"
   ]
  },
  {
   "cell_type": "code",
   "execution_count": 2,
   "metadata": {},
   "outputs": [
    {
     "name": "stdout",
     "output_type": "stream",
     "text": [
      "⎧          μ - x                     \n",
      "⎪          ─────                     \n",
      "⎪           sig                      \n",
      "⎪        -ℯ                          \n",
      "⎪       ℯ                 for gam = 0\n",
      "⎪                                    \n",
      "⎨                    -1              \n",
      "⎪                    ───             \n",
      "⎪                    gam             \n",
      "⎪  ⎛gam⋅(-μ + x)    ⎞                \n",
      "⎪ -⎜──────────── + 1⎟                \n",
      "⎪  ⎝    sig         ⎠                \n",
      "⎩ℯ                         otherwise \n"
     ]
    }
   ],
   "source": [
    "X = GEV_Variable()\n",
    "pprint(X.get_cdf())"
   ]
  },
  {
   "cell_type": "code",
   "execution_count": 3,
   "metadata": {},
   "outputs": [
    {
     "name": "stdout",
     "output_type": "stream",
     "text": [
      "Piecewise((Interval(-oo, mu - sig/gam), gam < 0), (Interval(-oo, oo), Eq(gam, 0)), (Interval(mu - sig/gam, oo), True))\n",
      "Interval(-1.00000000000000, oo)\n",
      "0.846481724890614\n"
     ]
    }
   ],
   "source": [
    "print(X.def_set())\n",
    "X.eval_params(Mu=0, Sig=1, Gam=1)\n",
    "print(X.def_set())\n",
    "print(X.eval_cdf(5))"
   ]
  },
  {
   "cell_type": "code",
   "execution_count": 4,
   "metadata": {},
   "outputs": [
    {
     "name": "stdout",
     "output_type": "stream",
     "text": [
      "exp(-exp((mu - 5)/sig))\n"
     ]
    }
   ],
   "source": [
    "X.reparameterize()\n",
    "X.eval_params(Gam=0)\n",
    "print(X.eval_cdf(5))"
   ]
  },
  {
   "cell_type": "code",
   "execution_count": 5,
   "metadata": {},
   "outputs": [
    {
     "name": "stdout",
     "output_type": "stream",
     "text": [
      "exp(mu/sig)*Integral(exp(-_z/sig)*exp(-exp(-_z/sig)*exp(mu/sig)), (_z, 0, oo))/sig\n",
      "-1.0*exp(-1) + 1.0\n"
     ]
    }
   ],
   "source": [
    "R = X.sympy_rv()\n",
    "print(P(R>0))\n",
    "X.eval_params(Mu=0, Sig=1)\n",
    "R = X.sympy_rv()\n",
    "print(P(R>0))"
   ]
  },
  {
   "cell_type": "code",
   "execution_count": null,
   "metadata": {
    "scrolled": false
   },
   "outputs": [],
   "source": []
  },
  {
   "cell_type": "code",
   "execution_count": null,
   "metadata": {},
   "outputs": [],
   "source": []
  },
  {
   "cell_type": "code",
   "execution_count": null,
   "metadata": {},
   "outputs": [],
   "source": []
  }
 ],
 "metadata": {
  "kernelspec": {
   "display_name": "Python 3",
   "language": "python",
   "name": "python3"
  },
  "language_info": {
   "codemirror_mode": {
    "name": "ipython",
    "version": 3
   },
   "file_extension": ".py",
   "mimetype": "text/x-python",
   "name": "python",
   "nbconvert_exporter": "python",
   "pygments_lexer": "ipython3",
   "version": "3.7.1"
  }
 },
 "nbformat": 4,
 "nbformat_minor": 2
}
